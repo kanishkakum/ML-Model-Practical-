{
 "cells": [
  {
   "cell_type": "code",
   "execution_count": 1,
   "id": "15475790",
   "metadata": {},
   "outputs": [],
   "source": [
    "import pandas as pd\n",
    "import numpy as np\n",
    "import seaborn as sns\n",
    "import matplotlib.pyplot as plt\n",
    "import plotly.express as px\n",
    "import warnings\n",
    "from six.moves import urllib\n",
    "\n",
    "warnings.filterwarnings(\"ignore\")\n",
    "%matplotlib inline"
   ]
  },
  {
   "cell_type": "code",
   "execution_count": 2,
   "id": "efc6b2ee",
   "metadata": {},
   "outputs": [
    {
     "data": {
      "text/html": [
       "<div>\n",
       "<style scoped>\n",
       "    .dataframe tbody tr th:only-of-type {\n",
       "        vertical-align: middle;\n",
       "    }\n",
       "\n",
       "    .dataframe tbody tr th {\n",
       "        vertical-align: top;\n",
       "    }\n",
       "\n",
       "    .dataframe thead th {\n",
       "        text-align: right;\n",
       "    }\n",
       "</style>\n",
       "<table border=\"1\" class=\"dataframe\">\n",
       "  <thead>\n",
       "    <tr style=\"text-align: right;\">\n",
       "      <th></th>\n",
       "      <th>day</th>\n",
       "      <th>month</th>\n",
       "      <th>year</th>\n",
       "      <th>Temperature</th>\n",
       "      <th>RH</th>\n",
       "      <th>Ws</th>\n",
       "      <th>Rain</th>\n",
       "      <th>FFMC</th>\n",
       "      <th>DMC</th>\n",
       "      <th>DC</th>\n",
       "      <th>ISI</th>\n",
       "      <th>BUI</th>\n",
       "      <th>FWI</th>\n",
       "      <th>Classes</th>\n",
       "    </tr>\n",
       "  </thead>\n",
       "  <tbody>\n",
       "    <tr>\n",
       "      <th>0</th>\n",
       "      <td>01</td>\n",
       "      <td>06</td>\n",
       "      <td>2012</td>\n",
       "      <td>29</td>\n",
       "      <td>57</td>\n",
       "      <td>18</td>\n",
       "      <td>0</td>\n",
       "      <td>65.7</td>\n",
       "      <td>3.4</td>\n",
       "      <td>7.6</td>\n",
       "      <td>1.3</td>\n",
       "      <td>3.4</td>\n",
       "      <td>0.5</td>\n",
       "      <td>not fire</td>\n",
       "    </tr>\n",
       "    <tr>\n",
       "      <th>1</th>\n",
       "      <td>02</td>\n",
       "      <td>06</td>\n",
       "      <td>2012</td>\n",
       "      <td>29</td>\n",
       "      <td>61</td>\n",
       "      <td>13</td>\n",
       "      <td>1.3</td>\n",
       "      <td>64.4</td>\n",
       "      <td>4.1</td>\n",
       "      <td>7.6</td>\n",
       "      <td>1</td>\n",
       "      <td>3.9</td>\n",
       "      <td>0.4</td>\n",
       "      <td>not fire</td>\n",
       "    </tr>\n",
       "    <tr>\n",
       "      <th>2</th>\n",
       "      <td>03</td>\n",
       "      <td>06</td>\n",
       "      <td>2012</td>\n",
       "      <td>26</td>\n",
       "      <td>82</td>\n",
       "      <td>22</td>\n",
       "      <td>13.1</td>\n",
       "      <td>47.1</td>\n",
       "      <td>2.5</td>\n",
       "      <td>7.1</td>\n",
       "      <td>0.3</td>\n",
       "      <td>2.7</td>\n",
       "      <td>0.1</td>\n",
       "      <td>not fire</td>\n",
       "    </tr>\n",
       "    <tr>\n",
       "      <th>3</th>\n",
       "      <td>04</td>\n",
       "      <td>06</td>\n",
       "      <td>2012</td>\n",
       "      <td>25</td>\n",
       "      <td>89</td>\n",
       "      <td>13</td>\n",
       "      <td>2.5</td>\n",
       "      <td>28.6</td>\n",
       "      <td>1.3</td>\n",
       "      <td>6.9</td>\n",
       "      <td>0</td>\n",
       "      <td>1.7</td>\n",
       "      <td>0</td>\n",
       "      <td>not fire</td>\n",
       "    </tr>\n",
       "    <tr>\n",
       "      <th>4</th>\n",
       "      <td>05</td>\n",
       "      <td>06</td>\n",
       "      <td>2012</td>\n",
       "      <td>27</td>\n",
       "      <td>77</td>\n",
       "      <td>16</td>\n",
       "      <td>0</td>\n",
       "      <td>64.8</td>\n",
       "      <td>3</td>\n",
       "      <td>14.2</td>\n",
       "      <td>1.2</td>\n",
       "      <td>3.9</td>\n",
       "      <td>0.5</td>\n",
       "      <td>not fire</td>\n",
       "    </tr>\n",
       "    <tr>\n",
       "      <th>...</th>\n",
       "      <td>...</td>\n",
       "      <td>...</td>\n",
       "      <td>...</td>\n",
       "      <td>...</td>\n",
       "      <td>...</td>\n",
       "      <td>...</td>\n",
       "      <td>...</td>\n",
       "      <td>...</td>\n",
       "      <td>...</td>\n",
       "      <td>...</td>\n",
       "      <td>...</td>\n",
       "      <td>...</td>\n",
       "      <td>...</td>\n",
       "      <td>...</td>\n",
       "    </tr>\n",
       "    <tr>\n",
       "      <th>241</th>\n",
       "      <td>26</td>\n",
       "      <td>09</td>\n",
       "      <td>2012</td>\n",
       "      <td>30</td>\n",
       "      <td>65</td>\n",
       "      <td>14</td>\n",
       "      <td>0</td>\n",
       "      <td>85.4</td>\n",
       "      <td>16</td>\n",
       "      <td>44.5</td>\n",
       "      <td>4.5</td>\n",
       "      <td>16.9</td>\n",
       "      <td>6.5</td>\n",
       "      <td>fire</td>\n",
       "    </tr>\n",
       "    <tr>\n",
       "      <th>242</th>\n",
       "      <td>27</td>\n",
       "      <td>09</td>\n",
       "      <td>2012</td>\n",
       "      <td>28</td>\n",
       "      <td>87</td>\n",
       "      <td>15</td>\n",
       "      <td>4.4</td>\n",
       "      <td>41.1</td>\n",
       "      <td>6.5</td>\n",
       "      <td>8</td>\n",
       "      <td>0.1</td>\n",
       "      <td>6.2</td>\n",
       "      <td>0</td>\n",
       "      <td>not fire</td>\n",
       "    </tr>\n",
       "    <tr>\n",
       "      <th>243</th>\n",
       "      <td>28</td>\n",
       "      <td>09</td>\n",
       "      <td>2012</td>\n",
       "      <td>27</td>\n",
       "      <td>87</td>\n",
       "      <td>29</td>\n",
       "      <td>0.5</td>\n",
       "      <td>45.9</td>\n",
       "      <td>3.5</td>\n",
       "      <td>7.9</td>\n",
       "      <td>0.4</td>\n",
       "      <td>3.4</td>\n",
       "      <td>0.2</td>\n",
       "      <td>not fire</td>\n",
       "    </tr>\n",
       "    <tr>\n",
       "      <th>244</th>\n",
       "      <td>29</td>\n",
       "      <td>09</td>\n",
       "      <td>2012</td>\n",
       "      <td>24</td>\n",
       "      <td>54</td>\n",
       "      <td>18</td>\n",
       "      <td>0.1</td>\n",
       "      <td>79.7</td>\n",
       "      <td>4.3</td>\n",
       "      <td>15.2</td>\n",
       "      <td>1.7</td>\n",
       "      <td>5.1</td>\n",
       "      <td>0.7</td>\n",
       "      <td>not fire</td>\n",
       "    </tr>\n",
       "    <tr>\n",
       "      <th>245</th>\n",
       "      <td>30</td>\n",
       "      <td>09</td>\n",
       "      <td>2012</td>\n",
       "      <td>24</td>\n",
       "      <td>64</td>\n",
       "      <td>15</td>\n",
       "      <td>0.2</td>\n",
       "      <td>67.3</td>\n",
       "      <td>3.8</td>\n",
       "      <td>16.5</td>\n",
       "      <td>1.2</td>\n",
       "      <td>4.8</td>\n",
       "      <td>0.5</td>\n",
       "      <td>not fire</td>\n",
       "    </tr>\n",
       "  </tbody>\n",
       "</table>\n",
       "<p>246 rows × 14 columns</p>\n",
       "</div>"
      ],
      "text/plain": [
       "    day month  year Temperature  RH  Ws Rain   FFMC  DMC    DC  ISI   BUI  \\\n",
       "0    01    06  2012          29  57  18     0  65.7  3.4   7.6  1.3   3.4   \n",
       "1    02    06  2012          29  61  13   1.3  64.4  4.1   7.6    1   3.9   \n",
       "2    03    06  2012          26  82  22  13.1  47.1  2.5   7.1  0.3   2.7   \n",
       "3    04    06  2012          25  89  13   2.5  28.6  1.3   6.9    0   1.7   \n",
       "4    05    06  2012          27  77  16     0  64.8    3  14.2  1.2   3.9   \n",
       "..   ..   ...   ...         ...  ..  ..   ...   ...  ...   ...  ...   ...   \n",
       "241  26    09  2012          30  65  14     0  85.4   16  44.5  4.5  16.9   \n",
       "242  27    09  2012          28  87  15   4.4  41.1  6.5     8  0.1   6.2   \n",
       "243  28    09  2012          27  87  29   0.5  45.9  3.5   7.9  0.4   3.4   \n",
       "244  29    09  2012          24  54  18   0.1  79.7  4.3  15.2  1.7   5.1   \n",
       "245  30    09  2012          24  64  15   0.2  67.3  3.8  16.5  1.2   4.8   \n",
       "\n",
       "     FWI     Classes    \n",
       "0    0.5   not fire     \n",
       "1    0.4   not fire     \n",
       "2    0.1   not fire     \n",
       "3      0   not fire     \n",
       "4    0.5   not fire     \n",
       "..   ...           ...  \n",
       "241  6.5       fire     \n",
       "242    0   not fire     \n",
       "243  0.2   not fire     \n",
       "244  0.7   not fire     \n",
       "245  0.5  not fire      \n",
       "\n",
       "[246 rows x 14 columns]"
      ]
     },
     "execution_count": 2,
     "metadata": {},
     "output_type": "execute_result"
    }
   ],
   "source": [
    "df = pd.read_csv(r\"C:\\Users\\hp\\Downloads\\Algerian_forest_fires_dataset_UPDATE.csv\", header=1)\n",
    "df"
   ]
  },
  {
   "cell_type": "code",
   "execution_count": 3,
   "id": "83105993",
   "metadata": {},
   "outputs": [
    {
     "name": "stdout",
     "output_type": "stream",
     "text": [
      "<class 'pandas.core.frame.DataFrame'>\n",
      "RangeIndex: 246 entries, 0 to 245\n",
      "Data columns (total 14 columns):\n",
      " #   Column       Non-Null Count  Dtype \n",
      "---  ------       --------------  ----- \n",
      " 0   day          246 non-null    object\n",
      " 1   month        245 non-null    object\n",
      " 2   year         245 non-null    object\n",
      " 3   Temperature  245 non-null    object\n",
      " 4    RH          245 non-null    object\n",
      " 5    Ws          245 non-null    object\n",
      " 6   Rain         245 non-null    object\n",
      " 7   FFMC         245 non-null    object\n",
      " 8   DMC          245 non-null    object\n",
      " 9   DC           245 non-null    object\n",
      " 10  ISI          245 non-null    object\n",
      " 11  BUI          245 non-null    object\n",
      " 12  FWI          245 non-null    object\n",
      " 13  Classes      244 non-null    object\n",
      "dtypes: object(14)\n",
      "memory usage: 27.0+ KB\n"
     ]
    }
   ],
   "source": [
    "df.info()"
   ]
  },
  {
   "cell_type": "code",
   "execution_count": 5,
   "id": "bfc44b2b",
   "metadata": {},
   "outputs": [
    {
     "data": {
      "text/html": [
       "<div>\n",
       "<style scoped>\n",
       "    .dataframe tbody tr th:only-of-type {\n",
       "        vertical-align: middle;\n",
       "    }\n",
       "\n",
       "    .dataframe tbody tr th {\n",
       "        vertical-align: top;\n",
       "    }\n",
       "\n",
       "    .dataframe thead th {\n",
       "        text-align: right;\n",
       "    }\n",
       "</style>\n",
       "<table border=\"1\" class=\"dataframe\">\n",
       "  <thead>\n",
       "    <tr style=\"text-align: right;\">\n",
       "      <th></th>\n",
       "      <th>day</th>\n",
       "      <th>month</th>\n",
       "      <th>year</th>\n",
       "      <th>Temperature</th>\n",
       "      <th>RH</th>\n",
       "      <th>Ws</th>\n",
       "      <th>Rain</th>\n",
       "      <th>FFMC</th>\n",
       "      <th>DMC</th>\n",
       "      <th>DC</th>\n",
       "      <th>ISI</th>\n",
       "      <th>BUI</th>\n",
       "      <th>FWI</th>\n",
       "      <th>Classes</th>\n",
       "    </tr>\n",
       "  </thead>\n",
       "  <tbody>\n",
       "    <tr>\n",
       "      <th>0</th>\n",
       "      <td>01</td>\n",
       "      <td>06</td>\n",
       "      <td>2012</td>\n",
       "      <td>29</td>\n",
       "      <td>57</td>\n",
       "      <td>18</td>\n",
       "      <td>0</td>\n",
       "      <td>65.7</td>\n",
       "      <td>3.4</td>\n",
       "      <td>7.6</td>\n",
       "      <td>1.3</td>\n",
       "      <td>3.4</td>\n",
       "      <td>0.5</td>\n",
       "      <td>not fire</td>\n",
       "    </tr>\n",
       "    <tr>\n",
       "      <th>1</th>\n",
       "      <td>02</td>\n",
       "      <td>06</td>\n",
       "      <td>2012</td>\n",
       "      <td>29</td>\n",
       "      <td>61</td>\n",
       "      <td>13</td>\n",
       "      <td>1.3</td>\n",
       "      <td>64.4</td>\n",
       "      <td>4.1</td>\n",
       "      <td>7.6</td>\n",
       "      <td>1</td>\n",
       "      <td>3.9</td>\n",
       "      <td>0.4</td>\n",
       "      <td>not fire</td>\n",
       "    </tr>\n",
       "    <tr>\n",
       "      <th>2</th>\n",
       "      <td>03</td>\n",
       "      <td>06</td>\n",
       "      <td>2012</td>\n",
       "      <td>26</td>\n",
       "      <td>82</td>\n",
       "      <td>22</td>\n",
       "      <td>13.1</td>\n",
       "      <td>47.1</td>\n",
       "      <td>2.5</td>\n",
       "      <td>7.1</td>\n",
       "      <td>0.3</td>\n",
       "      <td>2.7</td>\n",
       "      <td>0.1</td>\n",
       "      <td>not fire</td>\n",
       "    </tr>\n",
       "    <tr>\n",
       "      <th>3</th>\n",
       "      <td>04</td>\n",
       "      <td>06</td>\n",
       "      <td>2012</td>\n",
       "      <td>25</td>\n",
       "      <td>89</td>\n",
       "      <td>13</td>\n",
       "      <td>2.5</td>\n",
       "      <td>28.6</td>\n",
       "      <td>1.3</td>\n",
       "      <td>6.9</td>\n",
       "      <td>0</td>\n",
       "      <td>1.7</td>\n",
       "      <td>0</td>\n",
       "      <td>not fire</td>\n",
       "    </tr>\n",
       "    <tr>\n",
       "      <th>4</th>\n",
       "      <td>05</td>\n",
       "      <td>06</td>\n",
       "      <td>2012</td>\n",
       "      <td>27</td>\n",
       "      <td>77</td>\n",
       "      <td>16</td>\n",
       "      <td>0</td>\n",
       "      <td>64.8</td>\n",
       "      <td>3</td>\n",
       "      <td>14.2</td>\n",
       "      <td>1.2</td>\n",
       "      <td>3.9</td>\n",
       "      <td>0.5</td>\n",
       "      <td>not fire</td>\n",
       "    </tr>\n",
       "  </tbody>\n",
       "</table>\n",
       "</div>"
      ],
      "text/plain": [
       "  day month  year Temperature  RH  Ws Rain   FFMC  DMC    DC  ISI  BUI  FWI  \\\n",
       "0  01    06  2012          29  57  18     0  65.7  3.4   7.6  1.3  3.4  0.5   \n",
       "1  02    06  2012          29  61  13   1.3  64.4  4.1   7.6    1  3.9  0.4   \n",
       "2  03    06  2012          26  82  22  13.1  47.1  2.5   7.1  0.3  2.7  0.1   \n",
       "3  04    06  2012          25  89  13   2.5  28.6  1.3   6.9    0  1.7    0   \n",
       "4  05    06  2012          27  77  16     0  64.8    3  14.2  1.2  3.9  0.5   \n",
       "\n",
       "     Classes    \n",
       "0  not fire     \n",
       "1  not fire     \n",
       "2  not fire     \n",
       "3  not fire     \n",
       "4  not fire     "
      ]
     },
     "execution_count": 5,
     "metadata": {},
     "output_type": "execute_result"
    }
   ],
   "source": [
    "df.loc[:122].head()"
   ]
  },
  {
   "cell_type": "code",
   "execution_count": 6,
   "id": "dfb29701",
   "metadata": {},
   "outputs": [],
   "source": [
    "df.drop(index=[122,123],inplace=True)\n",
    "df.reset_index(inplace=True)"
   ]
  },
  {
   "cell_type": "code",
   "execution_count": 7,
   "id": "61205e1e",
   "metadata": {},
   "outputs": [
    {
     "data": {
      "text/html": [
       "<div>\n",
       "<style scoped>\n",
       "    .dataframe tbody tr th:only-of-type {\n",
       "        vertical-align: middle;\n",
       "    }\n",
       "\n",
       "    .dataframe tbody tr th {\n",
       "        vertical-align: top;\n",
       "    }\n",
       "\n",
       "    .dataframe thead th {\n",
       "        text-align: right;\n",
       "    }\n",
       "</style>\n",
       "<table border=\"1\" class=\"dataframe\">\n",
       "  <thead>\n",
       "    <tr style=\"text-align: right;\">\n",
       "      <th></th>\n",
       "      <th>index</th>\n",
       "      <th>day</th>\n",
       "      <th>month</th>\n",
       "      <th>year</th>\n",
       "      <th>Temperature</th>\n",
       "      <th>RH</th>\n",
       "      <th>Ws</th>\n",
       "      <th>Rain</th>\n",
       "      <th>FFMC</th>\n",
       "      <th>DMC</th>\n",
       "      <th>DC</th>\n",
       "      <th>ISI</th>\n",
       "      <th>BUI</th>\n",
       "      <th>FWI</th>\n",
       "      <th>Classes</th>\n",
       "    </tr>\n",
       "  </thead>\n",
       "  <tbody>\n",
       "    <tr>\n",
       "      <th>0</th>\n",
       "      <td>0</td>\n",
       "      <td>01</td>\n",
       "      <td>06</td>\n",
       "      <td>2012</td>\n",
       "      <td>29</td>\n",
       "      <td>57</td>\n",
       "      <td>18</td>\n",
       "      <td>0</td>\n",
       "      <td>65.7</td>\n",
       "      <td>3.4</td>\n",
       "      <td>7.6</td>\n",
       "      <td>1.3</td>\n",
       "      <td>3.4</td>\n",
       "      <td>0.5</td>\n",
       "      <td>not fire</td>\n",
       "    </tr>\n",
       "    <tr>\n",
       "      <th>1</th>\n",
       "      <td>1</td>\n",
       "      <td>02</td>\n",
       "      <td>06</td>\n",
       "      <td>2012</td>\n",
       "      <td>29</td>\n",
       "      <td>61</td>\n",
       "      <td>13</td>\n",
       "      <td>1.3</td>\n",
       "      <td>64.4</td>\n",
       "      <td>4.1</td>\n",
       "      <td>7.6</td>\n",
       "      <td>1</td>\n",
       "      <td>3.9</td>\n",
       "      <td>0.4</td>\n",
       "      <td>not fire</td>\n",
       "    </tr>\n",
       "    <tr>\n",
       "      <th>2</th>\n",
       "      <td>2</td>\n",
       "      <td>03</td>\n",
       "      <td>06</td>\n",
       "      <td>2012</td>\n",
       "      <td>26</td>\n",
       "      <td>82</td>\n",
       "      <td>22</td>\n",
       "      <td>13.1</td>\n",
       "      <td>47.1</td>\n",
       "      <td>2.5</td>\n",
       "      <td>7.1</td>\n",
       "      <td>0.3</td>\n",
       "      <td>2.7</td>\n",
       "      <td>0.1</td>\n",
       "      <td>not fire</td>\n",
       "    </tr>\n",
       "    <tr>\n",
       "      <th>3</th>\n",
       "      <td>3</td>\n",
       "      <td>04</td>\n",
       "      <td>06</td>\n",
       "      <td>2012</td>\n",
       "      <td>25</td>\n",
       "      <td>89</td>\n",
       "      <td>13</td>\n",
       "      <td>2.5</td>\n",
       "      <td>28.6</td>\n",
       "      <td>1.3</td>\n",
       "      <td>6.9</td>\n",
       "      <td>0</td>\n",
       "      <td>1.7</td>\n",
       "      <td>0</td>\n",
       "      <td>not fire</td>\n",
       "    </tr>\n",
       "    <tr>\n",
       "      <th>4</th>\n",
       "      <td>4</td>\n",
       "      <td>05</td>\n",
       "      <td>06</td>\n",
       "      <td>2012</td>\n",
       "      <td>27</td>\n",
       "      <td>77</td>\n",
       "      <td>16</td>\n",
       "      <td>0</td>\n",
       "      <td>64.8</td>\n",
       "      <td>3</td>\n",
       "      <td>14.2</td>\n",
       "      <td>1.2</td>\n",
       "      <td>3.9</td>\n",
       "      <td>0.5</td>\n",
       "      <td>not fire</td>\n",
       "    </tr>\n",
       "  </tbody>\n",
       "</table>\n",
       "</div>"
      ],
      "text/plain": [
       "   index day month  year Temperature  RH  Ws Rain   FFMC  DMC    DC  ISI  BUI  \\\n",
       "0      0  01    06  2012          29  57  18     0  65.7  3.4   7.6  1.3  3.4   \n",
       "1      1  02    06  2012          29  61  13   1.3  64.4  4.1   7.6    1  3.9   \n",
       "2      2  03    06  2012          26  82  22  13.1  47.1  2.5   7.1  0.3  2.7   \n",
       "3      3  04    06  2012          25  89  13   2.5  28.6  1.3   6.9    0  1.7   \n",
       "4      4  05    06  2012          27  77  16     0  64.8    3  14.2  1.2  3.9   \n",
       "\n",
       "   FWI    Classes    \n",
       "0  0.5  not fire     \n",
       "1  0.4  not fire     \n",
       "2  0.1  not fire     \n",
       "3    0  not fire     \n",
       "4  0.5  not fire     "
      ]
     },
     "execution_count": 7,
     "metadata": {},
     "output_type": "execute_result"
    }
   ],
   "source": [
    "df.head()"
   ]
  },
  {
   "cell_type": "code",
   "execution_count": 8,
   "id": "c00fe48d",
   "metadata": {},
   "outputs": [
    {
     "data": {
      "text/html": [
       "<div>\n",
       "<style scoped>\n",
       "    .dataframe tbody tr th:only-of-type {\n",
       "        vertical-align: middle;\n",
       "    }\n",
       "\n",
       "    .dataframe tbody tr th {\n",
       "        vertical-align: top;\n",
       "    }\n",
       "\n",
       "    .dataframe thead th {\n",
       "        text-align: right;\n",
       "    }\n",
       "</style>\n",
       "<table border=\"1\" class=\"dataframe\">\n",
       "  <thead>\n",
       "    <tr style=\"text-align: right;\">\n",
       "      <th></th>\n",
       "      <th>index</th>\n",
       "      <th>day</th>\n",
       "      <th>month</th>\n",
       "      <th>year</th>\n",
       "      <th>Temperature</th>\n",
       "      <th>RH</th>\n",
       "      <th>Ws</th>\n",
       "      <th>Rain</th>\n",
       "      <th>FFMC</th>\n",
       "      <th>DMC</th>\n",
       "      <th>DC</th>\n",
       "      <th>ISI</th>\n",
       "      <th>BUI</th>\n",
       "      <th>FWI</th>\n",
       "      <th>Classes</th>\n",
       "      <th>Region</th>\n",
       "    </tr>\n",
       "  </thead>\n",
       "  <tbody>\n",
       "    <tr>\n",
       "      <th>0</th>\n",
       "      <td>0</td>\n",
       "      <td>01</td>\n",
       "      <td>06</td>\n",
       "      <td>2012</td>\n",
       "      <td>29</td>\n",
       "      <td>57</td>\n",
       "      <td>18</td>\n",
       "      <td>0</td>\n",
       "      <td>65.7</td>\n",
       "      <td>3.4</td>\n",
       "      <td>7.6</td>\n",
       "      <td>1.3</td>\n",
       "      <td>3.4</td>\n",
       "      <td>0.5</td>\n",
       "      <td>not fire</td>\n",
       "      <td>0</td>\n",
       "    </tr>\n",
       "    <tr>\n",
       "      <th>1</th>\n",
       "      <td>1</td>\n",
       "      <td>02</td>\n",
       "      <td>06</td>\n",
       "      <td>2012</td>\n",
       "      <td>29</td>\n",
       "      <td>61</td>\n",
       "      <td>13</td>\n",
       "      <td>1.3</td>\n",
       "      <td>64.4</td>\n",
       "      <td>4.1</td>\n",
       "      <td>7.6</td>\n",
       "      <td>1</td>\n",
       "      <td>3.9</td>\n",
       "      <td>0.4</td>\n",
       "      <td>not fire</td>\n",
       "      <td>0</td>\n",
       "    </tr>\n",
       "    <tr>\n",
       "      <th>2</th>\n",
       "      <td>2</td>\n",
       "      <td>03</td>\n",
       "      <td>06</td>\n",
       "      <td>2012</td>\n",
       "      <td>26</td>\n",
       "      <td>82</td>\n",
       "      <td>22</td>\n",
       "      <td>13.1</td>\n",
       "      <td>47.1</td>\n",
       "      <td>2.5</td>\n",
       "      <td>7.1</td>\n",
       "      <td>0.3</td>\n",
       "      <td>2.7</td>\n",
       "      <td>0.1</td>\n",
       "      <td>not fire</td>\n",
       "      <td>0</td>\n",
       "    </tr>\n",
       "    <tr>\n",
       "      <th>3</th>\n",
       "      <td>3</td>\n",
       "      <td>04</td>\n",
       "      <td>06</td>\n",
       "      <td>2012</td>\n",
       "      <td>25</td>\n",
       "      <td>89</td>\n",
       "      <td>13</td>\n",
       "      <td>2.5</td>\n",
       "      <td>28.6</td>\n",
       "      <td>1.3</td>\n",
       "      <td>6.9</td>\n",
       "      <td>0</td>\n",
       "      <td>1.7</td>\n",
       "      <td>0</td>\n",
       "      <td>not fire</td>\n",
       "      <td>0</td>\n",
       "    </tr>\n",
       "    <tr>\n",
       "      <th>4</th>\n",
       "      <td>4</td>\n",
       "      <td>05</td>\n",
       "      <td>06</td>\n",
       "      <td>2012</td>\n",
       "      <td>27</td>\n",
       "      <td>77</td>\n",
       "      <td>16</td>\n",
       "      <td>0</td>\n",
       "      <td>64.8</td>\n",
       "      <td>3</td>\n",
       "      <td>14.2</td>\n",
       "      <td>1.2</td>\n",
       "      <td>3.9</td>\n",
       "      <td>0.5</td>\n",
       "      <td>not fire</td>\n",
       "      <td>0</td>\n",
       "    </tr>\n",
       "    <tr>\n",
       "      <th>...</th>\n",
       "      <td>...</td>\n",
       "      <td>...</td>\n",
       "      <td>...</td>\n",
       "      <td>...</td>\n",
       "      <td>...</td>\n",
       "      <td>...</td>\n",
       "      <td>...</td>\n",
       "      <td>...</td>\n",
       "      <td>...</td>\n",
       "      <td>...</td>\n",
       "      <td>...</td>\n",
       "      <td>...</td>\n",
       "      <td>...</td>\n",
       "      <td>...</td>\n",
       "      <td>...</td>\n",
       "      <td>...</td>\n",
       "    </tr>\n",
       "    <tr>\n",
       "      <th>239</th>\n",
       "      <td>241</td>\n",
       "      <td>26</td>\n",
       "      <td>09</td>\n",
       "      <td>2012</td>\n",
       "      <td>30</td>\n",
       "      <td>65</td>\n",
       "      <td>14</td>\n",
       "      <td>0</td>\n",
       "      <td>85.4</td>\n",
       "      <td>16</td>\n",
       "      <td>44.5</td>\n",
       "      <td>4.5</td>\n",
       "      <td>16.9</td>\n",
       "      <td>6.5</td>\n",
       "      <td>fire</td>\n",
       "      <td>1</td>\n",
       "    </tr>\n",
       "    <tr>\n",
       "      <th>240</th>\n",
       "      <td>242</td>\n",
       "      <td>27</td>\n",
       "      <td>09</td>\n",
       "      <td>2012</td>\n",
       "      <td>28</td>\n",
       "      <td>87</td>\n",
       "      <td>15</td>\n",
       "      <td>4.4</td>\n",
       "      <td>41.1</td>\n",
       "      <td>6.5</td>\n",
       "      <td>8</td>\n",
       "      <td>0.1</td>\n",
       "      <td>6.2</td>\n",
       "      <td>0</td>\n",
       "      <td>not fire</td>\n",
       "      <td>1</td>\n",
       "    </tr>\n",
       "    <tr>\n",
       "      <th>241</th>\n",
       "      <td>243</td>\n",
       "      <td>28</td>\n",
       "      <td>09</td>\n",
       "      <td>2012</td>\n",
       "      <td>27</td>\n",
       "      <td>87</td>\n",
       "      <td>29</td>\n",
       "      <td>0.5</td>\n",
       "      <td>45.9</td>\n",
       "      <td>3.5</td>\n",
       "      <td>7.9</td>\n",
       "      <td>0.4</td>\n",
       "      <td>3.4</td>\n",
       "      <td>0.2</td>\n",
       "      <td>not fire</td>\n",
       "      <td>1</td>\n",
       "    </tr>\n",
       "    <tr>\n",
       "      <th>242</th>\n",
       "      <td>244</td>\n",
       "      <td>29</td>\n",
       "      <td>09</td>\n",
       "      <td>2012</td>\n",
       "      <td>24</td>\n",
       "      <td>54</td>\n",
       "      <td>18</td>\n",
       "      <td>0.1</td>\n",
       "      <td>79.7</td>\n",
       "      <td>4.3</td>\n",
       "      <td>15.2</td>\n",
       "      <td>1.7</td>\n",
       "      <td>5.1</td>\n",
       "      <td>0.7</td>\n",
       "      <td>not fire</td>\n",
       "      <td>1</td>\n",
       "    </tr>\n",
       "    <tr>\n",
       "      <th>243</th>\n",
       "      <td>245</td>\n",
       "      <td>30</td>\n",
       "      <td>09</td>\n",
       "      <td>2012</td>\n",
       "      <td>24</td>\n",
       "      <td>64</td>\n",
       "      <td>15</td>\n",
       "      <td>0.2</td>\n",
       "      <td>67.3</td>\n",
       "      <td>3.8</td>\n",
       "      <td>16.5</td>\n",
       "      <td>1.2</td>\n",
       "      <td>4.8</td>\n",
       "      <td>0.5</td>\n",
       "      <td>not fire</td>\n",
       "      <td>1</td>\n",
       "    </tr>\n",
       "  </tbody>\n",
       "</table>\n",
       "<p>244 rows × 16 columns</p>\n",
       "</div>"
      ],
      "text/plain": [
       "     index day month  year Temperature  RH  Ws Rain   FFMC  DMC    DC  ISI  \\\n",
       "0        0  01    06  2012          29  57  18     0  65.7  3.4   7.6  1.3   \n",
       "1        1  02    06  2012          29  61  13   1.3  64.4  4.1   7.6    1   \n",
       "2        2  03    06  2012          26  82  22  13.1  47.1  2.5   7.1  0.3   \n",
       "3        3  04    06  2012          25  89  13   2.5  28.6  1.3   6.9    0   \n",
       "4        4  05    06  2012          27  77  16     0  64.8    3  14.2  1.2   \n",
       "..     ...  ..   ...   ...         ...  ..  ..   ...   ...  ...   ...  ...   \n",
       "239    241  26    09  2012          30  65  14     0  85.4   16  44.5  4.5   \n",
       "240    242  27    09  2012          28  87  15   4.4  41.1  6.5     8  0.1   \n",
       "241    243  28    09  2012          27  87  29   0.5  45.9  3.5   7.9  0.4   \n",
       "242    244  29    09  2012          24  54  18   0.1  79.7  4.3  15.2  1.7   \n",
       "243    245  30    09  2012          24  64  15   0.2  67.3  3.8  16.5  1.2   \n",
       "\n",
       "      BUI  FWI     Classes    Region  \n",
       "0     3.4  0.5   not fire          0  \n",
       "1     3.9  0.4   not fire          0  \n",
       "2     2.7  0.1   not fire          0  \n",
       "3     1.7    0   not fire          0  \n",
       "4     3.9  0.5   not fire          0  \n",
       "..    ...  ...           ...     ...  \n",
       "239  16.9  6.5       fire          1  \n",
       "240   6.2    0   not fire          1  \n",
       "241   3.4  0.2   not fire          1  \n",
       "242   5.1  0.7   not fire          1  \n",
       "243   4.8  0.5  not fire           1  \n",
       "\n",
       "[244 rows x 16 columns]"
      ]
     },
     "execution_count": 8,
     "metadata": {},
     "output_type": "execute_result"
    }
   ],
   "source": [
    "df['Region']=0\n",
    "for i in range(len(df)):\n",
    "    if i<122:\n",
    "        df['Region'][i]=0\n",
    "    else:\n",
    "        df['Region'][i]=1\n",
    "df  "
   ]
  },
  {
   "cell_type": "code",
   "execution_count": 9,
   "id": "6ea913f1",
   "metadata": {},
   "outputs": [
    {
     "name": "stdout",
     "output_type": "stream",
     "text": [
      "122\n",
      "122\n"
     ]
    }
   ],
   "source": [
    "l1=[]\n",
    "l2=[]\n",
    "for i in df['Region']:\n",
    "    if i==0:\n",
    "        l1.append(i)\n",
    "    else:\n",
    "        l2.append(i)\n",
    "print(len(l1))\n",
    "print(len(l2))"
   ]
  },
  {
   "cell_type": "code",
   "execution_count": 10,
   "id": "81a20703",
   "metadata": {},
   "outputs": [
    {
     "data": {
      "text/plain": [
       "Index(['index', 'day', 'month', 'year', 'Temperature', ' RH', ' Ws', 'Rain ',\n",
       "       'FFMC', 'DMC', 'DC', 'ISI', 'BUI', 'FWI', 'Classes  ', 'Region'],\n",
       "      dtype='object')"
      ]
     },
     "execution_count": 10,
     "metadata": {},
     "output_type": "execute_result"
    }
   ],
   "source": [
    "df.columns"
   ]
  },
  {
   "cell_type": "markdown",
   "id": "052a4ede",
   "metadata": {},
   "source": [
    "# Removing extra spaces from feature name"
   ]
  },
  {
   "cell_type": "code",
   "execution_count": 11,
   "id": "6cf32268",
   "metadata": {},
   "outputs": [],
   "source": [
    "df.columns=df.columns.str.strip()"
   ]
  },
  {
   "cell_type": "code",
   "execution_count": 13,
   "id": "bac86c38",
   "metadata": {},
   "outputs": [
    {
     "data": {
      "text/plain": [
       "index              167\n",
       "day                 14\n",
       "month               07\n",
       "year              2012\n",
       "Temperature         37\n",
       "RH                  37\n",
       "Ws                  18\n",
       "Rain               0.2\n",
       "FFMC              88.9\n",
       "DMC               12.9\n",
       "DC              14.6 9\n",
       "ISI               12.5\n",
       "BUI               10.4\n",
       "FWI            fire   \n",
       "Classes            NaN\n",
       "Region               1\n",
       "Name: 165, dtype: object"
      ]
     },
     "execution_count": 13,
     "metadata": {},
     "output_type": "execute_result"
    }
   ],
   "source": [
    "#record mismatch at 165\n",
    "df.iloc[165]"
   ]
  },
  {
   "cell_type": "code",
   "execution_count": 15,
   "id": "ba4b5f7a",
   "metadata": {},
   "outputs": [],
   "source": [
    "df.at[165,'DC']=14.6\n",
    "df.at[165,'ISI']=9\n",
    "df.at[165,'BUI']=12.5\n",
    "df.at[165,'FWI']=10.4\n",
    "df.at[165,'Classes']='fire'"
   ]
  },
  {
   "cell_type": "markdown",
   "id": "3c649c94",
   "metadata": {},
   "source": [
    "# Replacing day,month,year feature with year"
   ]
  },
  {
   "cell_type": "code",
   "execution_count": 17,
   "id": "b103a238",
   "metadata": {},
   "outputs": [],
   "source": [
    "df['date']=pd.to_datetime(df[['day','month','year']])\n",
    "df.drop(['day','month','year'],axis=1,inplace=True)"
   ]
  },
  {
   "cell_type": "code",
   "execution_count": 18,
   "id": "a32b0d3f",
   "metadata": {},
   "outputs": [
    {
     "data": {
      "text/html": [
       "<div>\n",
       "<style scoped>\n",
       "    .dataframe tbody tr th:only-of-type {\n",
       "        vertical-align: middle;\n",
       "    }\n",
       "\n",
       "    .dataframe tbody tr th {\n",
       "        vertical-align: top;\n",
       "    }\n",
       "\n",
       "    .dataframe thead th {\n",
       "        text-align: right;\n",
       "    }\n",
       "</style>\n",
       "<table border=\"1\" class=\"dataframe\">\n",
       "  <thead>\n",
       "    <tr style=\"text-align: right;\">\n",
       "      <th></th>\n",
       "      <th>index</th>\n",
       "      <th>Temperature</th>\n",
       "      <th>RH</th>\n",
       "      <th>Ws</th>\n",
       "      <th>Rain</th>\n",
       "      <th>FFMC</th>\n",
       "      <th>DMC</th>\n",
       "      <th>DC</th>\n",
       "      <th>ISI</th>\n",
       "      <th>BUI</th>\n",
       "      <th>FWI</th>\n",
       "      <th>Classes</th>\n",
       "      <th>Region</th>\n",
       "      <th>date</th>\n",
       "    </tr>\n",
       "  </thead>\n",
       "  <tbody>\n",
       "    <tr>\n",
       "      <th>0</th>\n",
       "      <td>0</td>\n",
       "      <td>29</td>\n",
       "      <td>57</td>\n",
       "      <td>18</td>\n",
       "      <td>0</td>\n",
       "      <td>65.7</td>\n",
       "      <td>3.4</td>\n",
       "      <td>7.6</td>\n",
       "      <td>1.3</td>\n",
       "      <td>3.4</td>\n",
       "      <td>0.5</td>\n",
       "      <td>not fire</td>\n",
       "      <td>0</td>\n",
       "      <td>2012-06-01</td>\n",
       "    </tr>\n",
       "    <tr>\n",
       "      <th>1</th>\n",
       "      <td>1</td>\n",
       "      <td>29</td>\n",
       "      <td>61</td>\n",
       "      <td>13</td>\n",
       "      <td>1.3</td>\n",
       "      <td>64.4</td>\n",
       "      <td>4.1</td>\n",
       "      <td>7.6</td>\n",
       "      <td>1</td>\n",
       "      <td>3.9</td>\n",
       "      <td>0.4</td>\n",
       "      <td>not fire</td>\n",
       "      <td>0</td>\n",
       "      <td>2012-06-02</td>\n",
       "    </tr>\n",
       "    <tr>\n",
       "      <th>2</th>\n",
       "      <td>2</td>\n",
       "      <td>26</td>\n",
       "      <td>82</td>\n",
       "      <td>22</td>\n",
       "      <td>13.1</td>\n",
       "      <td>47.1</td>\n",
       "      <td>2.5</td>\n",
       "      <td>7.1</td>\n",
       "      <td>0.3</td>\n",
       "      <td>2.7</td>\n",
       "      <td>0.1</td>\n",
       "      <td>not fire</td>\n",
       "      <td>0</td>\n",
       "      <td>2012-06-03</td>\n",
       "    </tr>\n",
       "    <tr>\n",
       "      <th>3</th>\n",
       "      <td>3</td>\n",
       "      <td>25</td>\n",
       "      <td>89</td>\n",
       "      <td>13</td>\n",
       "      <td>2.5</td>\n",
       "      <td>28.6</td>\n",
       "      <td>1.3</td>\n",
       "      <td>6.9</td>\n",
       "      <td>0</td>\n",
       "      <td>1.7</td>\n",
       "      <td>0</td>\n",
       "      <td>not fire</td>\n",
       "      <td>0</td>\n",
       "      <td>2012-06-04</td>\n",
       "    </tr>\n",
       "    <tr>\n",
       "      <th>4</th>\n",
       "      <td>4</td>\n",
       "      <td>27</td>\n",
       "      <td>77</td>\n",
       "      <td>16</td>\n",
       "      <td>0</td>\n",
       "      <td>64.8</td>\n",
       "      <td>3</td>\n",
       "      <td>14.2</td>\n",
       "      <td>1.2</td>\n",
       "      <td>3.9</td>\n",
       "      <td>0.5</td>\n",
       "      <td>not fire</td>\n",
       "      <td>0</td>\n",
       "      <td>2012-06-05</td>\n",
       "    </tr>\n",
       "    <tr>\n",
       "      <th>...</th>\n",
       "      <td>...</td>\n",
       "      <td>...</td>\n",
       "      <td>...</td>\n",
       "      <td>...</td>\n",
       "      <td>...</td>\n",
       "      <td>...</td>\n",
       "      <td>...</td>\n",
       "      <td>...</td>\n",
       "      <td>...</td>\n",
       "      <td>...</td>\n",
       "      <td>...</td>\n",
       "      <td>...</td>\n",
       "      <td>...</td>\n",
       "      <td>...</td>\n",
       "    </tr>\n",
       "    <tr>\n",
       "      <th>239</th>\n",
       "      <td>241</td>\n",
       "      <td>30</td>\n",
       "      <td>65</td>\n",
       "      <td>14</td>\n",
       "      <td>0</td>\n",
       "      <td>85.4</td>\n",
       "      <td>16</td>\n",
       "      <td>44.5</td>\n",
       "      <td>4.5</td>\n",
       "      <td>16.9</td>\n",
       "      <td>6.5</td>\n",
       "      <td>fire</td>\n",
       "      <td>1</td>\n",
       "      <td>2012-09-26</td>\n",
       "    </tr>\n",
       "    <tr>\n",
       "      <th>240</th>\n",
       "      <td>242</td>\n",
       "      <td>28</td>\n",
       "      <td>87</td>\n",
       "      <td>15</td>\n",
       "      <td>4.4</td>\n",
       "      <td>41.1</td>\n",
       "      <td>6.5</td>\n",
       "      <td>8</td>\n",
       "      <td>0.1</td>\n",
       "      <td>6.2</td>\n",
       "      <td>0</td>\n",
       "      <td>not fire</td>\n",
       "      <td>1</td>\n",
       "      <td>2012-09-27</td>\n",
       "    </tr>\n",
       "    <tr>\n",
       "      <th>241</th>\n",
       "      <td>243</td>\n",
       "      <td>27</td>\n",
       "      <td>87</td>\n",
       "      <td>29</td>\n",
       "      <td>0.5</td>\n",
       "      <td>45.9</td>\n",
       "      <td>3.5</td>\n",
       "      <td>7.9</td>\n",
       "      <td>0.4</td>\n",
       "      <td>3.4</td>\n",
       "      <td>0.2</td>\n",
       "      <td>not fire</td>\n",
       "      <td>1</td>\n",
       "      <td>2012-09-28</td>\n",
       "    </tr>\n",
       "    <tr>\n",
       "      <th>242</th>\n",
       "      <td>244</td>\n",
       "      <td>24</td>\n",
       "      <td>54</td>\n",
       "      <td>18</td>\n",
       "      <td>0.1</td>\n",
       "      <td>79.7</td>\n",
       "      <td>4.3</td>\n",
       "      <td>15.2</td>\n",
       "      <td>1.7</td>\n",
       "      <td>5.1</td>\n",
       "      <td>0.7</td>\n",
       "      <td>not fire</td>\n",
       "      <td>1</td>\n",
       "      <td>2012-09-29</td>\n",
       "    </tr>\n",
       "    <tr>\n",
       "      <th>243</th>\n",
       "      <td>245</td>\n",
       "      <td>24</td>\n",
       "      <td>64</td>\n",
       "      <td>15</td>\n",
       "      <td>0.2</td>\n",
       "      <td>67.3</td>\n",
       "      <td>3.8</td>\n",
       "      <td>16.5</td>\n",
       "      <td>1.2</td>\n",
       "      <td>4.8</td>\n",
       "      <td>0.5</td>\n",
       "      <td>not fire</td>\n",
       "      <td>1</td>\n",
       "      <td>2012-09-30</td>\n",
       "    </tr>\n",
       "  </tbody>\n",
       "</table>\n",
       "<p>244 rows × 14 columns</p>\n",
       "</div>"
      ],
      "text/plain": [
       "     index Temperature  RH  Ws  Rain  FFMC  DMC    DC  ISI   BUI  FWI  \\\n",
       "0        0          29  57  18     0  65.7  3.4   7.6  1.3   3.4  0.5   \n",
       "1        1          29  61  13   1.3  64.4  4.1   7.6    1   3.9  0.4   \n",
       "2        2          26  82  22  13.1  47.1  2.5   7.1  0.3   2.7  0.1   \n",
       "3        3          25  89  13   2.5  28.6  1.3   6.9    0   1.7    0   \n",
       "4        4          27  77  16     0  64.8    3  14.2  1.2   3.9  0.5   \n",
       "..     ...         ...  ..  ..   ...   ...  ...   ...  ...   ...  ...   \n",
       "239    241          30  65  14     0  85.4   16  44.5  4.5  16.9  6.5   \n",
       "240    242          28  87  15   4.4  41.1  6.5     8  0.1   6.2    0   \n",
       "241    243          27  87  29   0.5  45.9  3.5   7.9  0.4   3.4  0.2   \n",
       "242    244          24  54  18   0.1  79.7  4.3  15.2  1.7   5.1  0.7   \n",
       "243    245          24  64  15   0.2  67.3  3.8  16.5  1.2   4.8  0.5   \n",
       "\n",
       "          Classes  Region       date  \n",
       "0     not fire          0 2012-06-01  \n",
       "1     not fire          0 2012-06-02  \n",
       "2     not fire          0 2012-06-03  \n",
       "3     not fire          0 2012-06-04  \n",
       "4     not fire          0 2012-06-05  \n",
       "..            ...     ...        ...  \n",
       "239       fire          1 2012-09-26  \n",
       "240   not fire          1 2012-09-27  \n",
       "241   not fire          1 2012-09-28  \n",
       "242   not fire          1 2012-09-29  \n",
       "243  not fire           1 2012-09-30  \n",
       "\n",
       "[244 rows x 14 columns]"
      ]
     },
     "execution_count": 18,
     "metadata": {},
     "output_type": "execute_result"
    }
   ],
   "source": [
    "df"
   ]
  },
  {
   "cell_type": "code",
   "execution_count": 19,
   "id": "c158ee67",
   "metadata": {},
   "outputs": [],
   "source": [
    "#dropping index and classes feature\n",
    "df.drop(['Classes','index'],axis=1,inplace=True)"
   ]
  },
  {
   "cell_type": "code",
   "execution_count": 20,
   "id": "105ba654",
   "metadata": {},
   "outputs": [
    {
     "data": {
      "text/html": [
       "<div>\n",
       "<style scoped>\n",
       "    .dataframe tbody tr th:only-of-type {\n",
       "        vertical-align: middle;\n",
       "    }\n",
       "\n",
       "    .dataframe tbody tr th {\n",
       "        vertical-align: top;\n",
       "    }\n",
       "\n",
       "    .dataframe thead th {\n",
       "        text-align: right;\n",
       "    }\n",
       "</style>\n",
       "<table border=\"1\" class=\"dataframe\">\n",
       "  <thead>\n",
       "    <tr style=\"text-align: right;\">\n",
       "      <th></th>\n",
       "      <th>Temperature</th>\n",
       "      <th>RH</th>\n",
       "      <th>Ws</th>\n",
       "      <th>Rain</th>\n",
       "      <th>FFMC</th>\n",
       "      <th>DMC</th>\n",
       "      <th>DC</th>\n",
       "      <th>ISI</th>\n",
       "      <th>BUI</th>\n",
       "      <th>FWI</th>\n",
       "      <th>Region</th>\n",
       "      <th>date</th>\n",
       "    </tr>\n",
       "  </thead>\n",
       "  <tbody>\n",
       "    <tr>\n",
       "      <th>0</th>\n",
       "      <td>29</td>\n",
       "      <td>57</td>\n",
       "      <td>18</td>\n",
       "      <td>0</td>\n",
       "      <td>65.7</td>\n",
       "      <td>3.4</td>\n",
       "      <td>7.6</td>\n",
       "      <td>1.3</td>\n",
       "      <td>3.4</td>\n",
       "      <td>0.5</td>\n",
       "      <td>0</td>\n",
       "      <td>2012-06-01</td>\n",
       "    </tr>\n",
       "    <tr>\n",
       "      <th>1</th>\n",
       "      <td>29</td>\n",
       "      <td>61</td>\n",
       "      <td>13</td>\n",
       "      <td>1.3</td>\n",
       "      <td>64.4</td>\n",
       "      <td>4.1</td>\n",
       "      <td>7.6</td>\n",
       "      <td>1</td>\n",
       "      <td>3.9</td>\n",
       "      <td>0.4</td>\n",
       "      <td>0</td>\n",
       "      <td>2012-06-02</td>\n",
       "    </tr>\n",
       "    <tr>\n",
       "      <th>2</th>\n",
       "      <td>26</td>\n",
       "      <td>82</td>\n",
       "      <td>22</td>\n",
       "      <td>13.1</td>\n",
       "      <td>47.1</td>\n",
       "      <td>2.5</td>\n",
       "      <td>7.1</td>\n",
       "      <td>0.3</td>\n",
       "      <td>2.7</td>\n",
       "      <td>0.1</td>\n",
       "      <td>0</td>\n",
       "      <td>2012-06-03</td>\n",
       "    </tr>\n",
       "    <tr>\n",
       "      <th>3</th>\n",
       "      <td>25</td>\n",
       "      <td>89</td>\n",
       "      <td>13</td>\n",
       "      <td>2.5</td>\n",
       "      <td>28.6</td>\n",
       "      <td>1.3</td>\n",
       "      <td>6.9</td>\n",
       "      <td>0</td>\n",
       "      <td>1.7</td>\n",
       "      <td>0</td>\n",
       "      <td>0</td>\n",
       "      <td>2012-06-04</td>\n",
       "    </tr>\n",
       "    <tr>\n",
       "      <th>4</th>\n",
       "      <td>27</td>\n",
       "      <td>77</td>\n",
       "      <td>16</td>\n",
       "      <td>0</td>\n",
       "      <td>64.8</td>\n",
       "      <td>3</td>\n",
       "      <td>14.2</td>\n",
       "      <td>1.2</td>\n",
       "      <td>3.9</td>\n",
       "      <td>0.5</td>\n",
       "      <td>0</td>\n",
       "      <td>2012-06-05</td>\n",
       "    </tr>\n",
       "    <tr>\n",
       "      <th>...</th>\n",
       "      <td>...</td>\n",
       "      <td>...</td>\n",
       "      <td>...</td>\n",
       "      <td>...</td>\n",
       "      <td>...</td>\n",
       "      <td>...</td>\n",
       "      <td>...</td>\n",
       "      <td>...</td>\n",
       "      <td>...</td>\n",
       "      <td>...</td>\n",
       "      <td>...</td>\n",
       "      <td>...</td>\n",
       "    </tr>\n",
       "    <tr>\n",
       "      <th>239</th>\n",
       "      <td>30</td>\n",
       "      <td>65</td>\n",
       "      <td>14</td>\n",
       "      <td>0</td>\n",
       "      <td>85.4</td>\n",
       "      <td>16</td>\n",
       "      <td>44.5</td>\n",
       "      <td>4.5</td>\n",
       "      <td>16.9</td>\n",
       "      <td>6.5</td>\n",
       "      <td>1</td>\n",
       "      <td>2012-09-26</td>\n",
       "    </tr>\n",
       "    <tr>\n",
       "      <th>240</th>\n",
       "      <td>28</td>\n",
       "      <td>87</td>\n",
       "      <td>15</td>\n",
       "      <td>4.4</td>\n",
       "      <td>41.1</td>\n",
       "      <td>6.5</td>\n",
       "      <td>8</td>\n",
       "      <td>0.1</td>\n",
       "      <td>6.2</td>\n",
       "      <td>0</td>\n",
       "      <td>1</td>\n",
       "      <td>2012-09-27</td>\n",
       "    </tr>\n",
       "    <tr>\n",
       "      <th>241</th>\n",
       "      <td>27</td>\n",
       "      <td>87</td>\n",
       "      <td>29</td>\n",
       "      <td>0.5</td>\n",
       "      <td>45.9</td>\n",
       "      <td>3.5</td>\n",
       "      <td>7.9</td>\n",
       "      <td>0.4</td>\n",
       "      <td>3.4</td>\n",
       "      <td>0.2</td>\n",
       "      <td>1</td>\n",
       "      <td>2012-09-28</td>\n",
       "    </tr>\n",
       "    <tr>\n",
       "      <th>242</th>\n",
       "      <td>24</td>\n",
       "      <td>54</td>\n",
       "      <td>18</td>\n",
       "      <td>0.1</td>\n",
       "      <td>79.7</td>\n",
       "      <td>4.3</td>\n",
       "      <td>15.2</td>\n",
       "      <td>1.7</td>\n",
       "      <td>5.1</td>\n",
       "      <td>0.7</td>\n",
       "      <td>1</td>\n",
       "      <td>2012-09-29</td>\n",
       "    </tr>\n",
       "    <tr>\n",
       "      <th>243</th>\n",
       "      <td>24</td>\n",
       "      <td>64</td>\n",
       "      <td>15</td>\n",
       "      <td>0.2</td>\n",
       "      <td>67.3</td>\n",
       "      <td>3.8</td>\n",
       "      <td>16.5</td>\n",
       "      <td>1.2</td>\n",
       "      <td>4.8</td>\n",
       "      <td>0.5</td>\n",
       "      <td>1</td>\n",
       "      <td>2012-09-30</td>\n",
       "    </tr>\n",
       "  </tbody>\n",
       "</table>\n",
       "<p>244 rows × 12 columns</p>\n",
       "</div>"
      ],
      "text/plain": [
       "    Temperature  RH  Ws  Rain  FFMC  DMC    DC  ISI   BUI  FWI  Region  \\\n",
       "0            29  57  18     0  65.7  3.4   7.6  1.3   3.4  0.5       0   \n",
       "1            29  61  13   1.3  64.4  4.1   7.6    1   3.9  0.4       0   \n",
       "2            26  82  22  13.1  47.1  2.5   7.1  0.3   2.7  0.1       0   \n",
       "3            25  89  13   2.5  28.6  1.3   6.9    0   1.7    0       0   \n",
       "4            27  77  16     0  64.8    3  14.2  1.2   3.9  0.5       0   \n",
       "..          ...  ..  ..   ...   ...  ...   ...  ...   ...  ...     ...   \n",
       "239          30  65  14     0  85.4   16  44.5  4.5  16.9  6.5       1   \n",
       "240          28  87  15   4.4  41.1  6.5     8  0.1   6.2    0       1   \n",
       "241          27  87  29   0.5  45.9  3.5   7.9  0.4   3.4  0.2       1   \n",
       "242          24  54  18   0.1  79.7  4.3  15.2  1.7   5.1  0.7       1   \n",
       "243          24  64  15   0.2  67.3  3.8  16.5  1.2   4.8  0.5       1   \n",
       "\n",
       "          date  \n",
       "0   2012-06-01  \n",
       "1   2012-06-02  \n",
       "2   2012-06-03  \n",
       "3   2012-06-04  \n",
       "4   2012-06-05  \n",
       "..         ...  \n",
       "239 2012-09-26  \n",
       "240 2012-09-27  \n",
       "241 2012-09-28  \n",
       "242 2012-09-29  \n",
       "243 2012-09-30  \n",
       "\n",
       "[244 rows x 12 columns]"
      ]
     },
     "execution_count": 20,
     "metadata": {},
     "output_type": "execute_result"
    }
   ],
   "source": [
    "df"
   ]
  },
  {
   "cell_type": "code",
   "execution_count": 22,
   "id": "236ae18d",
   "metadata": {},
   "outputs": [
    {
     "data": {
      "text/plain": [
       "Temperature    0\n",
       "RH             0\n",
       "Ws             0\n",
       "Rain           0\n",
       "FFMC           0\n",
       "DMC            0\n",
       "DC             0\n",
       "ISI            0\n",
       "BUI            0\n",
       "FWI            0\n",
       "Region         0\n",
       "date           0\n",
       "dtype: int64"
      ]
     },
     "execution_count": 22,
     "metadata": {},
     "output_type": "execute_result"
    }
   ],
   "source": [
    "#checking null values\n",
    "df.isnull().sum()"
   ]
  },
  {
   "cell_type": "code",
   "execution_count": 24,
   "id": "1b220e2b",
   "metadata": {},
   "outputs": [
    {
     "data": {
      "text/plain": [
       "Temperature            object\n",
       "RH                     object\n",
       "Ws                     object\n",
       "Rain                   object\n",
       "FFMC                   object\n",
       "DMC                    object\n",
       "DC                     object\n",
       "ISI                    object\n",
       "BUI                    object\n",
       "FWI                    object\n",
       "Region                  int64\n",
       "date           datetime64[ns]\n",
       "dtype: object"
      ]
     },
     "execution_count": 24,
     "metadata": {},
     "output_type": "execute_result"
    }
   ],
   "source": [
    "df.dtypes"
   ]
  },
  {
   "cell_type": "markdown",
   "id": "08fded18",
   "metadata": {},
   "source": [
    "# Changing the datatype of features"
   ]
  },
  {
   "cell_type": "code",
   "execution_count": 25,
   "id": "73409bbd",
   "metadata": {},
   "outputs": [],
   "source": [
    "df[['Temperature','RH','Ws']]=df[['Temperature','RH','Ws']].astype(int)\n",
    "df[['Rain','FFMC','DMC','ISI','BUI']]=df[['Rain','FFMC','DMC','ISI','BUI']].astype(float)"
   ]
  },
  {
   "cell_type": "code",
   "execution_count": 26,
   "id": "838ae33d",
   "metadata": {},
   "outputs": [],
   "source": [
    "from sklearn.preprocessing import LabelEncoder\n",
    "lb=LabelEncoder()"
   ]
  },
  {
   "cell_type": "code",
   "execution_count": 33,
   "id": "0cec67b2",
   "metadata": {},
   "outputs": [],
   "source": [
    "df['FWI']=df['FWI'].astype(float)\n",
    "df['DC']=df['DC'].astype(float)"
   ]
  },
  {
   "cell_type": "code",
   "execution_count": 34,
   "id": "820210a0",
   "metadata": {},
   "outputs": [
    {
     "data": {
      "text/plain": [
       "Temperature             int32\n",
       "RH                      int32\n",
       "Ws                      int32\n",
       "Rain                  float64\n",
       "FFMC                  float64\n",
       "DMC                   float64\n",
       "DC                    float64\n",
       "ISI                   float64\n",
       "BUI                   float64\n",
       "FWI                   float64\n",
       "Region                  int64\n",
       "date           datetime64[ns]\n",
       "dtype: object"
      ]
     },
     "execution_count": 34,
     "metadata": {},
     "output_type": "execute_result"
    }
   ],
   "source": [
    "df.dtypes"
   ]
  },
  {
   "cell_type": "markdown",
   "id": "1fce8a25",
   "metadata": {},
   "source": [
    "# Numeric feature"
   ]
  },
  {
   "cell_type": "code",
   "execution_count": 37,
   "id": "3221ba66",
   "metadata": {},
   "outputs": [],
   "source": [
    "num_fea=[fea for fea in df.columns if df[fea].dtype!='O']"
   ]
  },
  {
   "cell_type": "code",
   "execution_count": 38,
   "id": "3d49dc11",
   "metadata": {},
   "outputs": [
    {
     "data": {
      "text/plain": [
       "['Temperature',\n",
       " 'RH',\n",
       " 'Ws',\n",
       " 'Rain',\n",
       " 'FFMC',\n",
       " 'DMC',\n",
       " 'DC',\n",
       " 'ISI',\n",
       " 'BUI',\n",
       " 'FWI',\n",
       " 'Region',\n",
       " 'date']"
      ]
     },
     "execution_count": 38,
     "metadata": {},
     "output_type": "execute_result"
    }
   ],
   "source": [
    "num_fea"
   ]
  },
  {
   "cell_type": "markdown",
   "id": "2368ab12",
   "metadata": {},
   "source": [
    "# Univariate Analysis"
   ]
  },
  {
   "cell_type": "code",
   "execution_count": 43,
   "id": "d995f532",
   "metadata": {},
   "outputs": [
    {
     "data": {
      "image/png": "[encoded data removed]",
      "text/plain": [
       "<Figure size 432x288 with 1 Axes>"
      ]
     },
     "metadata": {
      "needs_background": "light"
     },
     "output_type": "display_data"
    },
    {
     "data": {
      "image/png": "[encoded data removed]",
      "text/plain": [
       "<Figure size 432x288 with 1 Axes>"
      ]
     },
     "metadata": {
      "needs_background": "light"
     },
     "output_type": "display_data"
    },
    {
     "data": {
      "image/png": "[encoded data removed]",
      "text/plain": [
       "<Figure size 432x288 with 1 Axes>"
      ]
     },
     "metadata": {
      "needs_background": "light"
     },
     "output_type": "display_data"
    },
    {
     "data": {
      "image/png": "[encoded data removed]",
      "text/plain": [
       "<Figure size 432x288 with 1 Axes>"
      ]
     },
     "metadata": {
      "needs_background": "light"
     },
     "output_type": "display_data"
    },
    {
     "data": {
      "image/png": "[encoded data removed]",
      "text/plain": [
       "<Figure size 432x288 with 1 Axes>"
      ]
     },
     "metadata": {
      "needs_background": "light"
     },
     "output_type": "display_data"
    },
    {
     "data": {
      "image/png": "[encoded data removed]",
      "text/plain": [
       "<Figure size 432x288 with 1 Axes>"
      ]
     },
     "metadata": {
      "needs_background": "light"
     },
     "output_type": "display_data"
    },
    {
     "data": {
      "image/png": "[encoded data removed]",
      "text/plain": [
       "<Figure size 432x288 with 1 Axes>"
      ]
     },
     "metadata": {
      "needs_background": "light"
     },
     "output_type": "display_data"
    },
    {
     "data": {
      "image/png": "[encoded data removed]",
      "text/plain": [
       "<Figure size 432x288 with 1 Axes>"
      ]
     },
     "metadata": {
      "needs_background": "light"
     },
     "output_type": "display_data"
    },
    {
     "data": {
      "image/png": "[encoded data removed]",
      "text/plain": [
       "<Figure size 432x288 with 1 Axes>"
      ]
     },
     "metadata": {
      "needs_background": "light"
     },
     "output_type": "display_data"
    },
    {
     "data": {
      "image/png": "[encoded data removed]",
      "text/plain": [
       "<Figure size 432x288 with 1 Axes>"
      ]
     },
     "metadata": {
      "needs_background": "light"
     },
     "output_type": "display_data"
    },
    {
     "data": {
      "image/png": "[encoded data removed]",
      "text/plain": [
       "<Figure size 432x288 with 1 Axes>"
      ]
     },
     "metadata": {
      "needs_background": "light"
     },
     "output_type": "display_data"
    },
    {
     "data": {
      "image/png": "[encoded data removed]",
      "text/plain": [
       "<Figure size 432x288 with 1 Axes>"
      ]
     },
     "metadata": {
      "needs_background": "light"
     },
     "output_type": "display_data"
    }
   ],
   "source": [
    "for fea in num_fea:\n",
    "    sns.histplot(data=df,x=fea,kde=True,bins=15,color='green')\n",
    "    plt.show()"
   ]
  },
  {
   "cell_type": "markdown",
   "id": "c38c68f0",
   "metadata": {},
   "source": [
    "# Observation on univariate analysis"
   ]
  },
  {
   "cell_type": "markdown",
   "id": "f6dd4eeb",
   "metadata": {},
   "source": [
    "1. RH is following almost guassian distribution.\n",
    "2. Rain,DMC,DC,ISI,BUI,FWI are following right skewed distribution\n",
    "3. FFMC following left skewed distribution"
   ]
  },
  {
   "cell_type": "markdown",
   "id": "76128df0",
   "metadata": {},
   "source": [
    "# Feature Information"
   ]
  },
  {
   "cell_type": "code",
   "execution_count": null,
   "id": "d691eee4",
   "metadata": {},
   "outputs": [],
   "source": []
  },
  {
   "cell_type": "markdown",
   "id": "2e24a2f6",
   "metadata": {},
   "source": [
    "Date : (DD/MM/YYYY) format where month is in (june to sept), year is 2012\n",
    "Temp : Tempreture is lying between 22 to 42\n",
    "RH : Relative humidity in % 21 to 90\n",
    "WS : windspeed in km (6 to 29)\n",
    "Rain : today rain in mm , 00 to 16.8\n",
    "FFMC : index from FWI system 28.6 to 92.5\n",
    "DMC : index from FWI system 1.1 to 66\n",
    "DC : index from FWI system 7 to 220.4\n",
    "ISI : index from FWI system 0 to 18.5\n",
    "BUI : index from FWI system 1.1 to 68\n",
    "FWI : index from 0 to 31.1    "
   ]
  },
  {
   "cell_type": "markdown",
   "id": "603a4653",
   "metadata": {},
   "source": [
    "# Tempreture Distribution"
   ]
  },
  {
   "cell_type": "code",
   "execution_count": 47,
   "id": "9a66bc67",
   "metadata": {},
   "outputs": [
    {
     "data": {
      "text/plain": [
       "<seaborn.axisgrid.FacetGrid at 0x1e524ab3ca0>"
      ]
     },
     "execution_count": 47,
     "metadata": {},
     "output_type": "execute_result"
    },
    {
     "data": {
      "image/png": "[encoded data removed]",
      "text/plain": [
       "<Figure size 360x360 with 1 Axes>"
      ]
     },
     "metadata": {
      "needs_background": "light"
     },
     "output_type": "display_data"
    }
   ],
   "source": [
    "sns.displot(data=df,x='Temperature',kde=True)"
   ]
  },
  {
   "cell_type": "markdown",
   "id": "97c1f48b",
   "metadata": {},
   "source": [
    "# observation"
   ]
  },
  {
   "cell_type": "markdown",
   "id": "7ca5b970",
   "metadata": {},
   "source": [
    "Temperature occur most of the time in range from 32.5 to 35"
   ]
  },
  {
   "cell_type": "markdown",
   "id": "afa45979",
   "metadata": {},
   "source": [
    "# Bivariate Analysis"
   ]
  },
  {
   "cell_type": "markdown",
   "id": "04ff821c",
   "metadata": {},
   "source": [
    "# 1. Temperature vs Rain"
   ]
  },
  {
   "cell_type": "code",
   "execution_count": 52,
   "id": "5f8e02ba",
   "metadata": {},
   "outputs": [
    {
     "data": {
      "text/plain": [
       "<AxesSubplot:xlabel='Temperature', ylabel='Rain'>"
      ]
     },
     "execution_count": 52,
     "metadata": {},
     "output_type": "execute_result"
    },
    {
     "data": {
      "image/png": "[encoded data removed]",
      "text/plain": [
       "<Figure size 432x288 with 1 Axes>"
      ]
     },
     "metadata": {
      "needs_background": "light"
     },
     "output_type": "display_data"
    }
   ],
   "source": [
    "sns.barplot(x=df.Temperature,y=df.Rain)"
   ]
  },
  {
   "cell_type": "code",
   "execution_count": 54,
   "id": "3e6d1473",
   "metadata": {},
   "outputs": [
    {
     "data": {
      "text/plain": [
       "Index(['Temperature', 'RH', 'Ws', 'Rain', 'FFMC', 'DMC', 'DC', 'ISI', 'BUI',\n",
       "       'FWI', 'Region', 'date'],\n",
       "      dtype='object')"
      ]
     },
     "execution_count": 54,
     "metadata": {},
     "output_type": "execute_result"
    }
   ],
   "source": [
    "df.columns"
   ]
  },
  {
   "cell_type": "markdown",
   "id": "5bcfee9a",
   "metadata": {},
   "source": [
    "# 2. Temperature vs region"
   ]
  },
  {
   "cell_type": "code",
   "execution_count": 59,
   "id": "93d9e220",
   "metadata": {},
   "outputs": [
    {
     "data": {
      "text/plain": [
       "<AxesSubplot:xlabel='Region', ylabel='Temperature'>"
      ]
     },
     "execution_count": 59,
     "metadata": {},
     "output_type": "execute_result"
    },
    {
     "data": {
      "image/png": "[encoded data removed]",
      "text/plain": [
       "<Figure size 432x288 with 1 Axes>"
      ]
     },
     "metadata": {
      "needs_background": "light"
     },
     "output_type": "display_data"
    }
   ],
   "source": [
    "sns.barplot(x=\"Region\",y=\"Temperature\",data=df)"
   ]
  },
  {
   "cell_type": "code",
   "execution_count": null,
   "id": "4fbc6ff2",
   "metadata": {},
   "outputs": [],
   "source": []
  },
  {
   "cell_type": "markdown",
   "id": "3391d72a",
   "metadata": {},
   "source": [
    "# 3. Temperature vs date"
   ]
  },
  {
   "cell_type": "code",
   "execution_count": 61,
   "id": "d80410f8",
   "metadata": {},
   "outputs": [
    {
     "data": {
      "text/plain": [
       "<AxesSubplot:xlabel='Temperature', ylabel='date'>"
      ]
     },
     "execution_count": 61,
     "metadata": {},
     "output_type": "execute_result"
    },
    {
     "data": {
      "image/png": "[encoded data removed]",
      "text/plain": [
       "<Figure size 432x288 with 1 Axes>"
      ]
     },
     "metadata": {
      "needs_background": "light"
     },
     "output_type": "display_data"
    }
   ],
   "source": [
    "sns.lineplot(x=\"Temperature\",y=\"date\",data=df,color='r')"
   ]
  },
  {
   "cell_type": "markdown",
   "id": "f4ac951c",
   "metadata": {},
   "source": [
    "# Observation from Bivariate Analysis"
   ]
  },
  {
   "cell_type": "markdown",
   "id": "78897859",
   "metadata": {},
   "source": [
    "1. Rainfall mostly happen when temperature is 22\n",
    "2. Sidi bel abbas has highest temperature\n",
    "3. Temperature was very high in august month of 2012"
   ]
  },
  {
   "cell_type": "markdown",
   "id": "0fabbbf1",
   "metadata": {},
   "source": [
    "# Multivariate Analysis"
   ]
  },
  {
   "cell_type": "code",
   "execution_count": 72,
   "id": "082b75e9",
   "metadata": {},
   "outputs": [
    {
     "data": {
      "text/plain": [
       "<AxesSubplot:>"
      ]
     },
     "execution_count": 72,
     "metadata": {},
     "output_type": "execute_result"
    },
    {
     "data": {
      "image/png": "[encoded data removed]",
      "text/plain": [
       "<Figure size 720x720 with 2 Axes>"
      ]
     },
     "metadata": {},
     "output_type": "display_data"
    }
   ],
   "source": [
    "sns.set(rc={'figure.figsize':(10,10)})\n",
    "sns.heatmap(df.corr(),annot=True)"
   ]
  },
  {
   "cell_type": "markdown",
   "id": "c74e0b6c",
   "metadata": {},
   "source": [
    "# Observation"
   ]
  },
  {
   "cell_type": "markdown",
   "id": "efc6397a",
   "metadata": {},
   "source": [
    "1. Very highly Correlated features: DMC-BUI, DC-BUI, ISI-FWI\n",
    "2. Highly correlated features: FFMC-ISI, DC-DMC, FWI-DMC, FWI-DC, FWI-BUI \n",
    "3. Note: Features with very hihg and high correlation are more linearly dependent and hence have almost the same effect on the dependent variable. So, we can drop one of the two features."
   ]
  },
  {
   "cell_type": "markdown",
   "id": "aef88f62",
   "metadata": {},
   "source": [
    "# Checking outlier"
   ]
  },
  {
   "cell_type": "code",
   "execution_count": 98,
   "id": "165befe6",
   "metadata": {},
   "outputs": [
    {
     "data": {
      "image/png": "[encoded data removed]",
      "text/plain": [
       "<Figure size 432x432 with 1 Axes>"
      ]
     },
     "metadata": {},
     "output_type": "display_data"
    },
    {
     "data": {
      "image/png": "[encoded data removed]",
      "text/plain": [
       "<Figure size 432x432 with 1 Axes>"
      ]
     },
     "metadata": {},
     "output_type": "display_data"
    },
    {
     "data": {
      "image/png": "[encoded data removed]",
      "text/plain": [
       "<Figure size 432x432 with 1 Axes>"
      ]
     },
     "metadata": {},
     "output_type": "display_data"
    },
    {
     "data": {
      "image/png": "[encoded data removed]",
      "text/plain": [
       "<Figure size 432x432 with 1 Axes>"
      ]
     },
     "metadata": {},
     "output_type": "display_data"
    },
    {
     "data": {
      "image/png": "[encoded data removed]",
      "text/plain": [
       "<Figure size 432x432 with 1 Axes>"
      ]
     },
     "metadata": {},
     "output_type": "display_data"
    },
    {
     "data": {
      "image/png": "[encoded data removed]",
      "text/plain": [
       "<Figure size 432x432 with 1 Axes>"
      ]
     },
     "metadata": {},
     "output_type": "display_data"
    },
    {
     "data": {
      "image/png": "[encoded data removed]",
      "text/plain": [
       "<Figure size 432x432 with 1 Axes>"
      ]
     },
     "metadata": {},
     "output_type": "display_data"
    },
    {
     "data": {
      "image/png": "[encoded data removed]",
      "text/plain": [
       "<Figure size 432x432 with 1 Axes>"
      ]
     },
     "metadata": {},
     "output_type": "display_data"
    },
    {
     "data": {
      "image/png": "[encoded data removed]",
      "text/plain": [
       "<Figure size 432x432 with 1 Axes>"
      ]
     },
     "metadata": {},
     "output_type": "display_data"
    },
    {
     "data": {
      "image/png": "[encoded data removed]",
      "text/plain": [
       "<Figure size 432x432 with 1 Axes>"
      ]
     },
     "metadata": {},
     "output_type": "display_data"
    },
    {
     "data": {
      "image/png": "[encoded data removed]",
      "text/plain": [
       "<Figure size 432x432 with 1 Axes>"
      ]
     },
     "metadata": {},
     "output_type": "display_data"
    },
    {
     "ename": "TypeError",
     "evalue": "Horizontal orientation requires numeric `x` variable.",
     "output_type": "error",
     "traceback": [
      "\u001b[1;31m---------------------------------------------------------------------------\u001b[0m",
      "\u001b[1;31mTypeError\u001b[0m                                 Traceback (most recent call last)",
      "Input \u001b[1;32mIn [98]\u001b[0m, in \u001b[0;36m<cell line: 2>\u001b[1;34m()\u001b[0m\n\u001b[0;32m      1\u001b[0m sns\u001b[38;5;241m.\u001b[39mset(rc\u001b[38;5;241m=\u001b[39m{\u001b[38;5;124m'\u001b[39m\u001b[38;5;124mfigure.figsize\u001b[39m\u001b[38;5;124m'\u001b[39m:(\u001b[38;5;241m6\u001b[39m,\u001b[38;5;241m6\u001b[39m)})\n\u001b[0;32m      2\u001b[0m \u001b[38;5;28;01mfor\u001b[39;00m fea \u001b[38;5;129;01min\u001b[39;00m num_fea:\n\u001b[1;32m----> 3\u001b[0m     \u001b[43msns\u001b[49m\u001b[38;5;241;43m.\u001b[39;49m\u001b[43mboxplot\u001b[49m\u001b[43m(\u001b[49m\u001b[43mx\u001b[49m\u001b[38;5;241;43m=\u001b[39;49m\u001b[43mdf\u001b[49m\u001b[43m[\u001b[49m\u001b[43mfea\u001b[49m\u001b[43m]\u001b[49m\u001b[43m)\u001b[49m\n\u001b[0;32m      4\u001b[0m     plt\u001b[38;5;241m.\u001b[39mshow()\n",
      "File \u001b[1;32m~\\anaconda3\\lib\\site-packages\\seaborn\\_decorators.py:46\u001b[0m, in \u001b[0;36m_deprecate_positional_args.<locals>.inner_f\u001b[1;34m(*args, **kwargs)\u001b[0m\n\u001b[0;32m     36\u001b[0m     warnings\u001b[38;5;241m.\u001b[39mwarn(\n\u001b[0;32m     37\u001b[0m         \u001b[38;5;124m\"\u001b[39m\u001b[38;5;124mPass the following variable\u001b[39m\u001b[38;5;132;01m{}\u001b[39;00m\u001b[38;5;124m as \u001b[39m\u001b[38;5;132;01m{}\u001b[39;00m\u001b[38;5;124mkeyword arg\u001b[39m\u001b[38;5;132;01m{}\u001b[39;00m\u001b[38;5;124m: \u001b[39m\u001b[38;5;132;01m{}\u001b[39;00m\u001b[38;5;124m. \u001b[39m\u001b[38;5;124m\"\u001b[39m\n\u001b[0;32m     38\u001b[0m         \u001b[38;5;124m\"\u001b[39m\u001b[38;5;124mFrom version 0.12, the only valid positional argument \u001b[39m\u001b[38;5;124m\"\u001b[39m\n\u001b[1;32m   (...)\u001b[0m\n\u001b[0;32m     43\u001b[0m         \u001b[38;5;167;01mFutureWarning\u001b[39;00m\n\u001b[0;32m     44\u001b[0m     )\n\u001b[0;32m     45\u001b[0m kwargs\u001b[38;5;241m.\u001b[39mupdate({k: arg \u001b[38;5;28;01mfor\u001b[39;00m k, arg \u001b[38;5;129;01min\u001b[39;00m \u001b[38;5;28mzip\u001b[39m(sig\u001b[38;5;241m.\u001b[39mparameters, args)})\n\u001b[1;32m---> 46\u001b[0m \u001b[38;5;28;01mreturn\u001b[39;00m f(\u001b[38;5;241m*\u001b[39m\u001b[38;5;241m*\u001b[39mkwargs)\n",
      "File \u001b[1;32m~\\anaconda3\\lib\\site-packages\\seaborn\\categorical.py:2243\u001b[0m, in \u001b[0;36mboxplot\u001b[1;34m(x, y, hue, data, order, hue_order, orient, color, palette, saturation, width, dodge, fliersize, linewidth, whis, ax, **kwargs)\u001b[0m\n\u001b[0;32m   2231\u001b[0m \u001b[38;5;129m@_deprecate_positional_args\u001b[39m\n\u001b[0;32m   2232\u001b[0m \u001b[38;5;28;01mdef\u001b[39;00m \u001b[38;5;21mboxplot\u001b[39m(\n\u001b[0;32m   2233\u001b[0m     \u001b[38;5;241m*\u001b[39m,\n\u001b[1;32m   (...)\u001b[0m\n\u001b[0;32m   2240\u001b[0m     \u001b[38;5;241m*\u001b[39m\u001b[38;5;241m*\u001b[39mkwargs\n\u001b[0;32m   2241\u001b[0m ):\n\u001b[1;32m-> 2243\u001b[0m     plotter \u001b[38;5;241m=\u001b[39m \u001b[43m_BoxPlotter\u001b[49m\u001b[43m(\u001b[49m\u001b[43mx\u001b[49m\u001b[43m,\u001b[49m\u001b[43m \u001b[49m\u001b[43my\u001b[49m\u001b[43m,\u001b[49m\u001b[43m \u001b[49m\u001b[43mhue\u001b[49m\u001b[43m,\u001b[49m\u001b[43m \u001b[49m\u001b[43mdata\u001b[49m\u001b[43m,\u001b[49m\u001b[43m \u001b[49m\u001b[43morder\u001b[49m\u001b[43m,\u001b[49m\u001b[43m \u001b[49m\u001b[43mhue_order\u001b[49m\u001b[43m,\u001b[49m\n\u001b[0;32m   2244\u001b[0m \u001b[43m                          \u001b[49m\u001b[43morient\u001b[49m\u001b[43m,\u001b[49m\u001b[43m \u001b[49m\u001b[43mcolor\u001b[49m\u001b[43m,\u001b[49m\u001b[43m \u001b[49m\u001b[43mpalette\u001b[49m\u001b[43m,\u001b[49m\u001b[43m \u001b[49m\u001b[43msaturation\u001b[49m\u001b[43m,\u001b[49m\n\u001b[0;32m   2245\u001b[0m \u001b[43m                          \u001b[49m\u001b[43mwidth\u001b[49m\u001b[43m,\u001b[49m\u001b[43m \u001b[49m\u001b[43mdodge\u001b[49m\u001b[43m,\u001b[49m\u001b[43m \u001b[49m\u001b[43mfliersize\u001b[49m\u001b[43m,\u001b[49m\u001b[43m \u001b[49m\u001b[43mlinewidth\u001b[49m\u001b[43m)\u001b[49m\n\u001b[0;32m   2247\u001b[0m     \u001b[38;5;28;01mif\u001b[39;00m ax \u001b[38;5;129;01mis\u001b[39;00m \u001b[38;5;28;01mNone\u001b[39;00m:\n\u001b[0;32m   2248\u001b[0m         ax \u001b[38;5;241m=\u001b[39m plt\u001b[38;5;241m.\u001b[39mgca()\n",
      "File \u001b[1;32m~\\anaconda3\\lib\\site-packages\\seaborn\\categorical.py:406\u001b[0m, in \u001b[0;36m_BoxPlotter.__init__\u001b[1;34m(self, x, y, hue, data, order, hue_order, orient, color, palette, saturation, width, dodge, fliersize, linewidth)\u001b[0m\n\u001b[0;32m    402\u001b[0m \u001b[38;5;28;01mdef\u001b[39;00m \u001b[38;5;21m__init__\u001b[39m(\u001b[38;5;28mself\u001b[39m, x, y, hue, data, order, hue_order,\n\u001b[0;32m    403\u001b[0m              orient, color, palette, saturation,\n\u001b[0;32m    404\u001b[0m              width, dodge, fliersize, linewidth):\n\u001b[1;32m--> 406\u001b[0m     \u001b[38;5;28;43mself\u001b[39;49m\u001b[38;5;241;43m.\u001b[39;49m\u001b[43mestablish_variables\u001b[49m\u001b[43m(\u001b[49m\u001b[43mx\u001b[49m\u001b[43m,\u001b[49m\u001b[43m \u001b[49m\u001b[43my\u001b[49m\u001b[43m,\u001b[49m\u001b[43m \u001b[49m\u001b[43mhue\u001b[49m\u001b[43m,\u001b[49m\u001b[43m \u001b[49m\u001b[43mdata\u001b[49m\u001b[43m,\u001b[49m\u001b[43m \u001b[49m\u001b[43morient\u001b[49m\u001b[43m,\u001b[49m\u001b[43m \u001b[49m\u001b[43morder\u001b[49m\u001b[43m,\u001b[49m\u001b[43m \u001b[49m\u001b[43mhue_order\u001b[49m\u001b[43m)\u001b[49m\n\u001b[0;32m    407\u001b[0m     \u001b[38;5;28mself\u001b[39m\u001b[38;5;241m.\u001b[39mestablish_colors(color, palette, saturation)\n\u001b[0;32m    409\u001b[0m     \u001b[38;5;28mself\u001b[39m\u001b[38;5;241m.\u001b[39mdodge \u001b[38;5;241m=\u001b[39m dodge\n",
      "File \u001b[1;32m~\\anaconda3\\lib\\site-packages\\seaborn\\categorical.py:156\u001b[0m, in \u001b[0;36m_CategoricalPlotter.establish_variables\u001b[1;34m(self, x, y, hue, data, orient, order, hue_order, units)\u001b[0m\n\u001b[0;32m    153\u001b[0m         \u001b[38;5;28;01mraise\u001b[39;00m \u001b[38;5;167;01mValueError\u001b[39;00m(err)\n\u001b[0;32m    155\u001b[0m \u001b[38;5;66;03m# Figure out the plotting orientation\u001b[39;00m\n\u001b[1;32m--> 156\u001b[0m orient \u001b[38;5;241m=\u001b[39m \u001b[43minfer_orient\u001b[49m\u001b[43m(\u001b[49m\n\u001b[0;32m    157\u001b[0m \u001b[43m    \u001b[49m\u001b[43mx\u001b[49m\u001b[43m,\u001b[49m\u001b[43m \u001b[49m\u001b[43my\u001b[49m\u001b[43m,\u001b[49m\u001b[43m \u001b[49m\u001b[43morient\u001b[49m\u001b[43m,\u001b[49m\u001b[43m \u001b[49m\u001b[43mrequire_numeric\u001b[49m\u001b[38;5;241;43m=\u001b[39;49m\u001b[38;5;28;43mself\u001b[39;49m\u001b[38;5;241;43m.\u001b[39;49m\u001b[43mrequire_numeric\u001b[49m\n\u001b[0;32m    158\u001b[0m \u001b[43m\u001b[49m\u001b[43m)\u001b[49m\n\u001b[0;32m    160\u001b[0m \u001b[38;5;66;03m# Option 2a:\u001b[39;00m\n\u001b[0;32m    161\u001b[0m \u001b[38;5;66;03m# We are plotting a single set of data\u001b[39;00m\n\u001b[0;32m    162\u001b[0m \u001b[38;5;66;03m# ------------------------------------\u001b[39;00m\n\u001b[0;32m    163\u001b[0m \u001b[38;5;28;01mif\u001b[39;00m x \u001b[38;5;129;01mis\u001b[39;00m \u001b[38;5;28;01mNone\u001b[39;00m \u001b[38;5;129;01mor\u001b[39;00m y \u001b[38;5;129;01mis\u001b[39;00m \u001b[38;5;28;01mNone\u001b[39;00m:\n\u001b[0;32m    164\u001b[0m \n\u001b[0;32m    165\u001b[0m     \u001b[38;5;66;03m# Determine where the data are\u001b[39;00m\n",
      "File \u001b[1;32m~\\anaconda3\\lib\\site-packages\\seaborn\\_core.py:1328\u001b[0m, in \u001b[0;36minfer_orient\u001b[1;34m(x, y, orient, require_numeric)\u001b[0m\n\u001b[0;32m   1326\u001b[0m         warnings\u001b[38;5;241m.\u001b[39mwarn(single_var_warning\u001b[38;5;241m.\u001b[39mformat(\u001b[38;5;124m\"\u001b[39m\u001b[38;5;124mVertical\u001b[39m\u001b[38;5;124m\"\u001b[39m, \u001b[38;5;124m\"\u001b[39m\u001b[38;5;124mx\u001b[39m\u001b[38;5;124m\"\u001b[39m))\n\u001b[0;32m   1327\u001b[0m     \u001b[38;5;28;01mif\u001b[39;00m require_numeric \u001b[38;5;129;01mand\u001b[39;00m x_type \u001b[38;5;241m!=\u001b[39m \u001b[38;5;124m\"\u001b[39m\u001b[38;5;124mnumeric\u001b[39m\u001b[38;5;124m\"\u001b[39m:\n\u001b[1;32m-> 1328\u001b[0m         \u001b[38;5;28;01mraise\u001b[39;00m \u001b[38;5;167;01mTypeError\u001b[39;00m(nonnumeric_dv_error\u001b[38;5;241m.\u001b[39mformat(\u001b[38;5;124m\"\u001b[39m\u001b[38;5;124mHorizontal\u001b[39m\u001b[38;5;124m\"\u001b[39m, \u001b[38;5;124m\"\u001b[39m\u001b[38;5;124mx\u001b[39m\u001b[38;5;124m\"\u001b[39m))\n\u001b[0;32m   1329\u001b[0m     \u001b[38;5;28;01mreturn\u001b[39;00m \u001b[38;5;124m\"\u001b[39m\u001b[38;5;124mh\u001b[39m\u001b[38;5;124m\"\u001b[39m\n\u001b[0;32m   1331\u001b[0m \u001b[38;5;28;01melif\u001b[39;00m \u001b[38;5;28mstr\u001b[39m(orient)\u001b[38;5;241m.\u001b[39mstartswith(\u001b[38;5;124m\"\u001b[39m\u001b[38;5;124mv\u001b[39m\u001b[38;5;124m\"\u001b[39m):\n",
      "\u001b[1;31mTypeError\u001b[0m: Horizontal orientation requires numeric `x` variable."
     ]
    }
   ],
   "source": [
    "sns.set(rc={'figure.figsize':(6,6)})\n",
    "for fea in num_fea:\n",
    "    sns.boxplot(x=df[fea])\n",
    "    plt.show()"
   ]
  },
  {
   "cell_type": "code",
   "execution_count": 96,
   "id": "321ad60c",
   "metadata": {},
   "outputs": [
    {
     "data": {
      "text/plain": [
       "Index(['Temperature', 'RH', 'Ws', 'Rain', 'FFMC', 'DMC', 'DC', 'ISI', 'BUI',\n",
       "       'FWI', 'Region', 'date'],\n",
       "      dtype='object')"
      ]
     },
     "execution_count": 96,
     "metadata": {},
     "output_type": "execute_result"
    }
   ],
   "source": [
    "df.columns"
   ]
  },
  {
   "cell_type": "markdown",
   "id": "55d7139d",
   "metadata": {},
   "source": [
    "# Creating dependent and independent feature"
   ]
  },
  {
   "cell_type": "code",
   "execution_count": 99,
   "id": "dd3fa0ab",
   "metadata": {},
   "outputs": [
    {
     "data": {
      "text/plain": [
       "Index(['Temperature', 'RH', 'Ws', 'Rain', 'FFMC', 'DMC', 'DC', 'ISI', 'BUI',\n",
       "       'FWI', 'Region', 'date'],\n",
       "      dtype='object')"
      ]
     },
     "execution_count": 99,
     "metadata": {},
     "output_type": "execute_result"
    }
   ],
   "source": [
    "df.columns"
   ]
  },
  {
   "cell_type": "code",
   "execution_count": null,
   "id": "b129dae5",
   "metadata": {},
   "outputs": [],
   "source": []
  },
  {
   "cell_type": "code",
   "execution_count": null,
   "id": "68d035ec",
   "metadata": {},
   "outputs": [],
   "source": []
  },
  {
   "cell_type": "code",
   "execution_count": 113,
   "id": "1e2d7a77",
   "metadata": {},
   "outputs": [],
   "source": [
    "# Independent feature\n",
    "X=pd.DataFrame(df,columns=['RH', 'Ws', 'Rain', 'FFMC', 'DMC', 'DC', 'ISI', 'BUI','FWI', 'Region'])\n",
    "\n",
    "# Dependent Feature\n",
    "Y=pd.DataFrame(df,columns=['Temperature'])"
   ]
  },
  {
   "cell_type": "code",
   "execution_count": 114,
   "id": "c5ae39f7",
   "metadata": {},
   "outputs": [
    {
     "data": {
      "text/html": [
       "<div>\n",
       "<style scoped>\n",
       "    .dataframe tbody tr th:only-of-type {\n",
       "        vertical-align: middle;\n",
       "    }\n",
       "\n",
       "    .dataframe tbody tr th {\n",
       "        vertical-align: top;\n",
       "    }\n",
       "\n",
       "    .dataframe thead th {\n",
       "        text-align: right;\n",
       "    }\n",
       "</style>\n",
       "<table border=\"1\" class=\"dataframe\">\n",
       "  <thead>\n",
       "    <tr style=\"text-align: right;\">\n",
       "      <th></th>\n",
       "      <th>RH</th>\n",
       "      <th>Ws</th>\n",
       "      <th>Rain</th>\n",
       "      <th>FFMC</th>\n",
       "      <th>DMC</th>\n",
       "      <th>DC</th>\n",
       "      <th>ISI</th>\n",
       "      <th>BUI</th>\n",
       "      <th>FWI</th>\n",
       "      <th>Region</th>\n",
       "    </tr>\n",
       "  </thead>\n",
       "  <tbody>\n",
       "    <tr>\n",
       "      <th>0</th>\n",
       "      <td>57</td>\n",
       "      <td>18</td>\n",
       "      <td>0.0</td>\n",
       "      <td>65.7</td>\n",
       "      <td>3.4</td>\n",
       "      <td>7.6</td>\n",
       "      <td>1.3</td>\n",
       "      <td>3.4</td>\n",
       "      <td>0.5</td>\n",
       "      <td>0</td>\n",
       "    </tr>\n",
       "    <tr>\n",
       "      <th>1</th>\n",
       "      <td>61</td>\n",
       "      <td>13</td>\n",
       "      <td>1.3</td>\n",
       "      <td>64.4</td>\n",
       "      <td>4.1</td>\n",
       "      <td>7.6</td>\n",
       "      <td>1.0</td>\n",
       "      <td>3.9</td>\n",
       "      <td>0.4</td>\n",
       "      <td>0</td>\n",
       "    </tr>\n",
       "    <tr>\n",
       "      <th>2</th>\n",
       "      <td>82</td>\n",
       "      <td>22</td>\n",
       "      <td>13.1</td>\n",
       "      <td>47.1</td>\n",
       "      <td>2.5</td>\n",
       "      <td>7.1</td>\n",
       "      <td>0.3</td>\n",
       "      <td>2.7</td>\n",
       "      <td>0.1</td>\n",
       "      <td>0</td>\n",
       "    </tr>\n",
       "    <tr>\n",
       "      <th>3</th>\n",
       "      <td>89</td>\n",
       "      <td>13</td>\n",
       "      <td>2.5</td>\n",
       "      <td>28.6</td>\n",
       "      <td>1.3</td>\n",
       "      <td>6.9</td>\n",
       "      <td>0.0</td>\n",
       "      <td>1.7</td>\n",
       "      <td>0.0</td>\n",
       "      <td>0</td>\n",
       "    </tr>\n",
       "    <tr>\n",
       "      <th>4</th>\n",
       "      <td>77</td>\n",
       "      <td>16</td>\n",
       "      <td>0.0</td>\n",
       "      <td>64.8</td>\n",
       "      <td>3.0</td>\n",
       "      <td>14.2</td>\n",
       "      <td>1.2</td>\n",
       "      <td>3.9</td>\n",
       "      <td>0.5</td>\n",
       "      <td>0</td>\n",
       "    </tr>\n",
       "    <tr>\n",
       "      <th>...</th>\n",
       "      <td>...</td>\n",
       "      <td>...</td>\n",
       "      <td>...</td>\n",
       "      <td>...</td>\n",
       "      <td>...</td>\n",
       "      <td>...</td>\n",
       "      <td>...</td>\n",
       "      <td>...</td>\n",
       "      <td>...</td>\n",
       "      <td>...</td>\n",
       "    </tr>\n",
       "    <tr>\n",
       "      <th>239</th>\n",
       "      <td>65</td>\n",
       "      <td>14</td>\n",
       "      <td>0.0</td>\n",
       "      <td>85.4</td>\n",
       "      <td>16.0</td>\n",
       "      <td>44.5</td>\n",
       "      <td>4.5</td>\n",
       "      <td>16.9</td>\n",
       "      <td>6.5</td>\n",
       "      <td>1</td>\n",
       "    </tr>\n",
       "    <tr>\n",
       "      <th>240</th>\n",
       "      <td>87</td>\n",
       "      <td>15</td>\n",
       "      <td>4.4</td>\n",
       "      <td>41.1</td>\n",
       "      <td>6.5</td>\n",
       "      <td>8.0</td>\n",
       "      <td>0.1</td>\n",
       "      <td>6.2</td>\n",
       "      <td>0.0</td>\n",
       "      <td>1</td>\n",
       "    </tr>\n",
       "    <tr>\n",
       "      <th>241</th>\n",
       "      <td>87</td>\n",
       "      <td>29</td>\n",
       "      <td>0.5</td>\n",
       "      <td>45.9</td>\n",
       "      <td>3.5</td>\n",
       "      <td>7.9</td>\n",
       "      <td>0.4</td>\n",
       "      <td>3.4</td>\n",
       "      <td>0.2</td>\n",
       "      <td>1</td>\n",
       "    </tr>\n",
       "    <tr>\n",
       "      <th>242</th>\n",
       "      <td>54</td>\n",
       "      <td>18</td>\n",
       "      <td>0.1</td>\n",
       "      <td>79.7</td>\n",
       "      <td>4.3</td>\n",
       "      <td>15.2</td>\n",
       "      <td>1.7</td>\n",
       "      <td>5.1</td>\n",
       "      <td>0.7</td>\n",
       "      <td>1</td>\n",
       "    </tr>\n",
       "    <tr>\n",
       "      <th>243</th>\n",
       "      <td>64</td>\n",
       "      <td>15</td>\n",
       "      <td>0.2</td>\n",
       "      <td>67.3</td>\n",
       "      <td>3.8</td>\n",
       "      <td>16.5</td>\n",
       "      <td>1.2</td>\n",
       "      <td>4.8</td>\n",
       "      <td>0.5</td>\n",
       "      <td>1</td>\n",
       "    </tr>\n",
       "  </tbody>\n",
       "</table>\n",
       "<p>244 rows × 10 columns</p>\n",
       "</div>"
      ],
      "text/plain": [
       "     RH  Ws  Rain  FFMC   DMC    DC  ISI   BUI  FWI  Region\n",
       "0    57  18   0.0  65.7   3.4   7.6  1.3   3.4  0.5       0\n",
       "1    61  13   1.3  64.4   4.1   7.6  1.0   3.9  0.4       0\n",
       "2    82  22  13.1  47.1   2.5   7.1  0.3   2.7  0.1       0\n",
       "3    89  13   2.5  28.6   1.3   6.9  0.0   1.7  0.0       0\n",
       "4    77  16   0.0  64.8   3.0  14.2  1.2   3.9  0.5       0\n",
       "..   ..  ..   ...   ...   ...   ...  ...   ...  ...     ...\n",
       "239  65  14   0.0  85.4  16.0  44.5  4.5  16.9  6.5       1\n",
       "240  87  15   4.4  41.1   6.5   8.0  0.1   6.2  0.0       1\n",
       "241  87  29   0.5  45.9   3.5   7.9  0.4   3.4  0.2       1\n",
       "242  54  18   0.1  79.7   4.3  15.2  1.7   5.1  0.7       1\n",
       "243  64  15   0.2  67.3   3.8  16.5  1.2   4.8  0.5       1\n",
       "\n",
       "[244 rows x 10 columns]"
      ]
     },
     "execution_count": 114,
     "metadata": {},
     "output_type": "execute_result"
    }
   ],
   "source": [
    "X"
   ]
  },
  {
   "cell_type": "code",
   "execution_count": 115,
   "id": "a38e243c",
   "metadata": {},
   "outputs": [
    {
     "data": {
      "text/html": [
       "<div>\n",
       "<style scoped>\n",
       "    .dataframe tbody tr th:only-of-type {\n",
       "        vertical-align: middle;\n",
       "    }\n",
       "\n",
       "    .dataframe tbody tr th {\n",
       "        vertical-align: top;\n",
       "    }\n",
       "\n",
       "    .dataframe thead th {\n",
       "        text-align: right;\n",
       "    }\n",
       "</style>\n",
       "<table border=\"1\" class=\"dataframe\">\n",
       "  <thead>\n",
       "    <tr style=\"text-align: right;\">\n",
       "      <th></th>\n",
       "      <th>Temperature</th>\n",
       "    </tr>\n",
       "  </thead>\n",
       "  <tbody>\n",
       "    <tr>\n",
       "      <th>0</th>\n",
       "      <td>29</td>\n",
       "    </tr>\n",
       "    <tr>\n",
       "      <th>1</th>\n",
       "      <td>29</td>\n",
       "    </tr>\n",
       "    <tr>\n",
       "      <th>2</th>\n",
       "      <td>26</td>\n",
       "    </tr>\n",
       "    <tr>\n",
       "      <th>3</th>\n",
       "      <td>25</td>\n",
       "    </tr>\n",
       "    <tr>\n",
       "      <th>4</th>\n",
       "      <td>27</td>\n",
       "    </tr>\n",
       "    <tr>\n",
       "      <th>...</th>\n",
       "      <td>...</td>\n",
       "    </tr>\n",
       "    <tr>\n",
       "      <th>239</th>\n",
       "      <td>30</td>\n",
       "    </tr>\n",
       "    <tr>\n",
       "      <th>240</th>\n",
       "      <td>28</td>\n",
       "    </tr>\n",
       "    <tr>\n",
       "      <th>241</th>\n",
       "      <td>27</td>\n",
       "    </tr>\n",
       "    <tr>\n",
       "      <th>242</th>\n",
       "      <td>24</td>\n",
       "    </tr>\n",
       "    <tr>\n",
       "      <th>243</th>\n",
       "      <td>24</td>\n",
       "    </tr>\n",
       "  </tbody>\n",
       "</table>\n",
       "<p>244 rows × 1 columns</p>\n",
       "</div>"
      ],
      "text/plain": [
       "     Temperature\n",
       "0             29\n",
       "1             29\n",
       "2             26\n",
       "3             25\n",
       "4             27\n",
       "..           ...\n",
       "239           30\n",
       "240           28\n",
       "241           27\n",
       "242           24\n",
       "243           24\n",
       "\n",
       "[244 rows x 1 columns]"
      ]
     },
     "execution_count": 115,
     "metadata": {},
     "output_type": "execute_result"
    }
   ],
   "source": [
    "Y"
   ]
  },
  {
   "cell_type": "markdown",
   "id": "9e5b7b5b",
   "metadata": {},
   "source": [
    "# splitting the dataset for training and testing the model"
   ]
  },
  {
   "cell_type": "code",
   "execution_count": 116,
   "id": "6d04f0c8",
   "metadata": {},
   "outputs": [],
   "source": [
    "from sklearn.model_selection import train_test_split"
   ]
  },
  {
   "cell_type": "code",
   "execution_count": 117,
   "id": "6e6619a8",
   "metadata": {},
   "outputs": [],
   "source": [
    "X_train, X_test, Y_train, Y_test = train_test_split(X, Y, test_size=0.33, random_state=10)"
   ]
  },
  {
   "cell_type": "code",
   "execution_count": 118,
   "id": "5fd50357",
   "metadata": {},
   "outputs": [
    {
     "data": {
      "text/plain": [
       "(163, 10)"
      ]
     },
     "execution_count": 118,
     "metadata": {},
     "output_type": "execute_result"
    }
   ],
   "source": [
    "X_train.shape"
   ]
  },
  {
   "cell_type": "code",
   "execution_count": 119,
   "id": "8d04fd3e",
   "metadata": {},
   "outputs": [
    {
     "data": {
      "text/plain": [
       "(81, 10)"
      ]
     },
     "execution_count": 119,
     "metadata": {},
     "output_type": "execute_result"
    }
   ],
   "source": [
    "X_test.shape"
   ]
  },
  {
   "cell_type": "code",
   "execution_count": 120,
   "id": "73a9ac1d",
   "metadata": {},
   "outputs": [
    {
     "data": {
      "text/plain": [
       "(163, 1)"
      ]
     },
     "execution_count": 120,
     "metadata": {},
     "output_type": "execute_result"
    }
   ],
   "source": [
    "Y_train.shape"
   ]
  },
  {
   "cell_type": "code",
   "execution_count": 121,
   "id": "9d88e204",
   "metadata": {},
   "outputs": [
    {
     "data": {
      "text/plain": [
       "(81, 1)"
      ]
     },
     "execution_count": 121,
     "metadata": {},
     "output_type": "execute_result"
    }
   ],
   "source": [
    "Y_test.shape"
   ]
  },
  {
   "cell_type": "markdown",
   "id": "98722f24",
   "metadata": {},
   "source": [
    "# Standardization or feature scaling"
   ]
  },
  {
   "cell_type": "code",
   "execution_count": 122,
   "id": "e6f2f58a",
   "metadata": {},
   "outputs": [],
   "source": [
    "from sklearn.preprocessing import StandardScaler\n",
    "scalar=StandardScaler()"
   ]
  },
  {
   "cell_type": "code",
   "execution_count": 123,
   "id": "e1478406",
   "metadata": {
    "scrolled": true
   },
   "outputs": [],
   "source": [
    "X_train=scalar.fit_transform(X_train)"
   ]
  },
  {
   "cell_type": "code",
   "execution_count": 124,
   "id": "395b472d",
   "metadata": {},
   "outputs": [],
   "source": [
    "X_test=scalar.transform(X_test)"
   ]
  },
  {
   "cell_type": "code",
   "execution_count": 125,
   "id": "1c5e688a",
   "metadata": {},
   "outputs": [
    {
     "data": {
      "text/plain": [
       "array([[-0.85631108, -3.36419461,  0.88853946, ..., -0.32636097,\n",
       "        -0.86597829,  0.98176139],\n",
       "       [-0.52508491,  0.99944243, -0.441414  , ...,  0.76499972,\n",
       "         1.21371864, -1.01857744],\n",
       "       [ 0.13736742,  0.99944243, -0.441414  , ...,  0.35224151,\n",
       "         0.48516239, -1.01857744],\n",
       "       ...,\n",
       "       [-0.72382061, -0.81873967, -0.441414  , ...,  0.08639724,\n",
       "         0.37919057,  0.98176139],\n",
       "       [ 0.13736742, -0.45510325, -0.441414  , ..., -0.76710278,\n",
       "        -0.78649943,  0.98176139],\n",
       "       [ 1.13104591, -1.18237609, -0.441414  , ..., -0.27738965,\n",
       "        -0.7997459 , -1.01857744]])"
      ]
     },
     "execution_count": 125,
     "metadata": {},
     "output_type": "execute_result"
    }
   ],
   "source": [
    "X_train"
   ]
  },
  {
   "cell_type": "code",
   "execution_count": 126,
   "id": "cd34d8e3",
   "metadata": {},
   "outputs": [
    {
     "data": {
      "text/plain": [
       "array([[-3.92594448e-01, -9.14668296e-02,  1.48701853e+00,\n",
       "        -1.82411230e-01, -6.02677495e-01, -8.21325921e-01,\n",
       "        -7.33709998e-01, -6.83151962e-01, -8.12992382e-01,\n",
       "         9.81761387e-01],\n",
       "       [ 1.37367416e-01,  6.35806011e-01, -4.41414004e-01,\n",
       "         6.64566895e-01,  1.37979749e+00,  2.03374779e+00,\n",
       "         5.03148781e-01,  1.72343828e+00,  1.16073273e+00,\n",
       "        -1.01857744e+00],\n",
       "       [-1.12129201e+00, -4.55103250e-01, -4.41414004e-01,\n",
       "         9.08075201e-02, -7.86536062e-01, -8.06652268e-01,\n",
       "        -6.38567015e-01, -8.30065901e-01, -7.99745905e-01,\n",
       "        -1.01857744e+00],\n",
       "       [ 7.11221826e-02, -4.55103250e-01, -2.41920984e-01,\n",
       "        -5.94627923e-02, -7.14591405e-01, -8.10844740e-01,\n",
       "        -7.09924252e-01, -7.74098686e-01, -8.12992382e-01,\n",
       "        -1.01857744e+00],\n",
       "       [-1.93858749e-01,  6.35806011e-01, -4.41414004e-01,\n",
       "         6.78227832e-01,  1.28490116e-02,  1.74386276e-01,\n",
       "         5.26934527e-01,  9.33931438e-02,  3.92437047e-01,\n",
       "        -1.01857744e+00],\n",
       "       [-5.91330147e-01,  2.72169591e-01, -4.41414004e-01,\n",
       "         8.21667676e-01,  1.83544698e+00,  2.36495311e+00,\n",
       "         1.35943563e+00,  2.16418009e+00,  2.03500022e+00,\n",
       "        -1.01857744e+00],\n",
       "       [-5.91330147e-01,  1.36307885e+00, -4.41414004e-01,\n",
       "         8.01176270e-01,  1.96707579e-01,  1.04642054e+00,\n",
       "         1.26429264e+00,  5.13147255e-01,  1.10774682e+00,\n",
       "        -1.01857744e+00],\n",
       "       [-5.91330147e-01,  6.35806011e-01, -1.08925637e-01,\n",
       "         1.86434082e-01,  4.84486205e-01,  2.10711606e+00,\n",
       "        -4.72066794e-01,  9.81872679e-01, -1.37422043e-01,\n",
       "         9.81761387e-01],\n",
       "       [ 5.34838813e-01, -4.55103250e-01, -4.41414004e-01,\n",
       "         3.64026270e-01, -4.18818928e-01, -3.05651815e-01,\n",
       "        -3.53138066e-01, -3.82328182e-01, -4.42091020e-01,\n",
       "        -1.01857744e+00],\n",
       "       [ 7.11221826e-02, -4.55103250e-01, -4.41414004e-01,\n",
       "         6.50905957e-01, -2.98911167e-01, -2.44860965e-01,\n",
       "         2.17719832e-01, -2.84385556e-01, -1.82037479e-02,\n",
       "        -1.01857744e+00],\n",
       "       [-3.92594448e-01,  2.72169591e-01, -4.41414004e-01,\n",
       "         7.80684863e-01,  7.32295578e-01,  1.76482512e-01,\n",
       "         8.36149222e-01,  5.06151353e-01,  8.29570795e-01,\n",
       "         9.81761387e-01],\n",
       "       [ 9.98555444e-01,  2.09035169e+00,  7.55544118e-01,\n",
       "        -1.29577764e+00, -1.01835773e+00, -8.44384520e-01,\n",
       "        -8.52638726e-01, -9.90971643e-01, -8.79224768e-01,\n",
       "        -1.01857744e+00],\n",
       "       [-1.84998957e+00,  2.72169591e-01, -3.08418657e-01,\n",
       "         7.39702051e-01,  1.80719877e-01, -7.50658327e-02,\n",
       "         6.69649001e-01,  6.54095363e-02,  4.71915910e-01,\n",
       "         9.81761387e-01],\n",
       "       [ 6.01084046e-01, -4.55103250e-01,  3.88093477e+00,\n",
       "        -8.85949510e-01, -9.06443823e-01, -8.29710866e-01,\n",
       "        -8.76424472e-01, -9.14016723e-01, -8.65978291e-01,\n",
       "         9.81761387e-01],\n",
       "       [-9.88801544e-01,  9.99442431e-01,  3.54844640e+00,\n",
       "         2.27416895e-01, -3.86843525e-01, -8.17133449e-01,\n",
       "        -3.76923811e-01, -5.01258514e-01, -5.21569883e-01,\n",
       "         9.81761387e-01],\n",
       "       [ 5.34838813e-01,  2.72169591e-01, -4.41414004e-01,\n",
       "         5.82601270e-01, -1.47028003e-01, -4.83831892e-01,\n",
       "         1.70148341e-01, -2.70393753e-01, -3.14502251e-02,\n",
       "         9.81761387e-01],\n",
       "       [-5.25084914e-01, -1.54601251e+00, -3.74916331e-01,\n",
       "         4.25500489e-01, -4.98757435e-01, -4.69158239e-01,\n",
       "        -3.76923811e-01, -5.08254416e-01, -5.08323406e-01,\n",
       "         9.81761387e-01],\n",
       "       [ 1.06480068e+00, -4.55103250e-01,  4.89553424e-01,\n",
       "        -2.21789092e+00, -1.01835773e+00, -8.63250645e-01,\n",
       "        -1.06671044e+00, -9.90971643e-01, -9.05717723e-01,\n",
       "        -1.01857744e+00],\n",
       "       [-1.78374434e+00, -9.14668296e-02, -4.41414004e-01,\n",
       "         1.11537783e+00,  6.68344772e-01, -1.25375502e-01,\n",
       "         2.62008015e+00,  4.43188236e-01,  1.84954954e+00,\n",
       "         9.81761387e-01],\n",
       "       [-7.90065846e-01,  2.72169591e-01, -4.41414004e-01,\n",
       "         8.48989551e-01,  1.44374829e+00,  4.67859344e-01,\n",
       "         1.14536392e+00,  1.12179072e+00,  1.37267636e+00,\n",
       "         9.81761387e-01],\n",
       "       [ 2.03612648e-01, -4.55103250e-01, -4.41414004e-01,\n",
       "         4.80144239e-01, -1.71009555e-01,  1.17787898e-01,\n",
       "        -1.62852100e-01, -5.35207952e-02, -1.77161475e-01,\n",
       "        -1.01857744e+00],\n",
       "       [-1.93858749e-01,  1.36307885e+00, -4.41414004e-01,\n",
       "         7.94345801e-01,  1.05204961e+00,  2.50540093e+00,\n",
       "         1.21672115e+00,  1.59051614e+00,  1.65085238e+00,\n",
       "         9.81761387e-01],\n",
       "       [-5.91330147e-01,  9.99442431e-01, -4.41414004e-01,\n",
       "         7.87515332e-01,  5.56430862e-01,  6.62809311e-01,\n",
       "         1.07400668e+00,  6.46069390e-01,  1.06800739e+00,\n",
       "        -1.01857744e+00],\n",
       "       [ 4.87694966e-03,  2.72169591e-01, -4.41414004e-01,\n",
       "         7.05549707e-01,  1.48744474e-01, -2.97266870e-01,\n",
       "         5.50720273e-01, -1.15453840e-02,  3.39451138e-01,\n",
       "         9.81761387e-01],\n",
       "       [-1.91623481e+00,  6.35806011e-01, -4.41414004e-01,\n",
       "         1.10854736e+00,  1.96707579e-01, -3.47576539e-01,\n",
       "         2.97686634e+00,  2.34341252e-02,  1.66409886e+00,\n",
       "         9.81761387e-01],\n",
       "       [ 1.85974347e+00, -9.14668296e-02, -4.41414004e-01,\n",
       "        -7.28848729e-01, -5.94683644e-01, -7.12321639e-01,\n",
       "        -8.28852981e-01, -6.62164256e-01, -8.39485337e-01,\n",
       "         9.81761387e-01],\n",
       "       [-6.13682833e-02,  9.99442431e-01, -2.41920984e-01,\n",
       "         1.86434082e-01, -2.34960361e-01,  8.74529168e-01,\n",
       "        -4.48281049e-01,  7.24054382e-02, -3.62612156e-01,\n",
       "        -1.01857744e+00],\n",
       "       [-9.88801544e-01, -4.55103250e-01,  2.40697100e-02,\n",
       "         2.01142638e-03, -6.02677495e-01, -8.35999575e-01,\n",
       "        -6.86138506e-01, -6.83151962e-01, -7.99745905e-01,\n",
       "        -1.01857744e+00],\n",
       "       [ 1.19729114e+00,  2.72169591e-01,  7.55544118e-01,\n",
       "        -2.05395967e+00, -9.38419226e-01, -8.59058173e-01,\n",
       "        -1.04292469e+00, -9.48996232e-01, -9.05717723e-01,\n",
       "        -1.01857744e+00],\n",
       "       [ 1.13104591e+00, -9.14668296e-02, -4.41414004e-01,\n",
       "         5.41618457e-01,  1.10800656e+00,  1.83041288e+00,\n",
       "         3.64812051e-03,  1.45759401e+00,  4.98408864e-01,\n",
       "        -1.01857744e+00],\n",
       "       [ 1.26353638e+00,  2.09035169e+00,  3.41545106e+00,\n",
       "        -1.97199404e+00, -9.30425375e-01, -8.59058173e-01,\n",
       "        -1.01913895e+00, -9.48996232e-01, -9.05717723e-01,\n",
       "        -1.01857744e+00],\n",
       "       [ 1.59476254e+00,  2.72169591e-01, -4.41414004e-01,\n",
       "        -2.70285420e+00, -1.09829624e+00, -8.48576992e-01,\n",
       "        -1.09049618e+00, -1.06093066e+00, -9.18964200e-01,\n",
       "         9.81761387e-01],\n",
       "       [-5.25084914e-01, -8.18739670e-01, -4.41414004e-01,\n",
       "         7.32871582e-01, -3.78849674e-01, -3.81116318e-01,\n",
       "         4.08005798e-01, -3.96319986e-01,  3.47821611e-02,\n",
       "        -1.01857744e+00],\n",
       "       [-7.23820613e-01,  2.72169591e-01,  2.08549759e+00,\n",
       "         2.01142638e-03, -5.30732838e-01, -8.21325921e-01,\n",
       "        -6.38567015e-01, -6.20188845e-01, -7.46759996e-01,\n",
       "         9.81761387e-01],\n",
       "       [ 1.37367416e-01, -9.14668296e-02, -4.41414004e-01,\n",
       "         6.30414551e-01, -3.51140928e-02,  3.16930338e-01,\n",
       "         2.41505578e-01,  1.21376751e-01,  1.93739888e-01,\n",
       "        -1.01857744e+00],\n",
       "       [ 3.36103114e-01,  1.36307885e+00, -4.41414004e-01,\n",
       "        -1.41428417e-01, -9.38419226e-01, -6.78781859e-01,\n",
       "        -6.38567015e-01, -8.79037214e-01, -8.12992382e-01,\n",
       "         9.81761387e-01],\n",
       "       [ 1.19729114e+00,  2.72169591e-01, -1.75423310e-01,\n",
       "        -1.20698154e+00, -8.98449972e-01, -4.52388349e-01,\n",
       "        -9.00210218e-01, -8.02082293e-01, -8.65978291e-01,\n",
       "        -1.01857744e+00],\n",
       "       [ 4.87694966e-03, -9.14668296e-02, -4.41414004e-01,\n",
       "         3.98178614e-01, -7.06597555e-01, -6.49434553e-01,\n",
       "        -2.10423591e-01, -7.11135569e-01, -4.95076928e-01,\n",
       "         9.81761387e-01],\n",
       "       [ 1.32978161e+00, -9.14668296e-02, -1.75423310e-01,\n",
       "        -2.22472138e+00, -1.09829624e+00, -8.67443118e-01,\n",
       "        -1.06671044e+00, -1.06093066e+00, -9.18964200e-01,\n",
       "        -1.01857744e+00],\n",
       "       [-9.22556312e-01, -8.18739670e-01, -4.41414004e-01,\n",
       "         8.76311426e-01,  6.04393966e-01,  1.25394792e+00,\n",
       "         9.55077950e-01,  8.97921857e-01,  1.10774682e+00,\n",
       "        -1.01857744e+00],\n",
       "       [ 4.02348347e-01,  1.36307885e+00, -4.41414004e-01,\n",
       "         7.39702051e-01,  9.00166443e-01,  1.71721612e+00,\n",
       "         9.78863696e-01,  1.26870466e+00,  1.30644398e+00,\n",
       "        -1.01857744e+00],\n",
       "       [-4.58839681e-01, -9.14668296e-02, -4.41414004e-01,\n",
       "         8.08006738e-01,  1.09201886e+00,  3.88202368e-01,\n",
       "         8.59934967e-01,  8.20966936e-01,  1.00177500e+00,\n",
       "         9.81761387e-01],\n",
       "       [-1.32002771e+00,  2.09035169e+00, -4.41414004e-01,\n",
       "         8.96802832e-01,  2.84639937e-01, -3.81116318e-01,\n",
       "         2.07300800e+00,  1.00389046e-01,  1.29319750e+00,\n",
       "         9.81761387e-01],\n",
       "       [ 8.66064978e-01,  2.72169591e-01, -4.41414004e-01,\n",
       "         3.23043457e-01, -8.18511465e-01, -5.11082963e-01,\n",
       "        -3.29352320e-01, -7.39119177e-01, -5.87802269e-01,\n",
       "         9.81761387e-01],\n",
       "       [-1.38627294e+00, -1.90964893e+00, -3.74916331e-01,\n",
       "         9.92429394e-01,  6.36369369e-01,  3.44181408e-01,\n",
       "         1.14536392e+00,  5.34134960e-01,  1.04151443e+00,\n",
       "         9.81761387e-01],\n",
       "       [-4.58839681e-01, -4.55103250e-01, -4.41414004e-01,\n",
       "         7.80684863e-01,  3.16615340e-01,  3.84009896e-01,\n",
       "         6.45863256e-01,  3.73229218e-01,  6.17627160e-01,\n",
       "        -1.01857744e+00],\n",
       "       [ 1.19729114e+00,  2.09035169e+00,  1.07301951e+01,\n",
       "        -1.70560576e+00, -4.74775883e-01, -8.38095811e-01,\n",
       "        -9.71567455e-01, -5.78213434e-01, -8.79224768e-01,\n",
       "        -1.01857744e+00],\n",
       "       [-1.18753724e+00, -8.18739670e-01, -4.41414004e-01,\n",
       "         8.62650488e-01, -1.63015705e-01, -6.13798537e-01,\n",
       "         8.59934967e-01, -2.84385556e-01,  3.52697615e-01,\n",
       "         9.81761387e-01],\n",
       "       [-4.58839681e-01, -9.14668296e-02, -4.41414004e-01,\n",
       "         7.94345801e-01,  5.00473906e-01, -1.12798084e-01,\n",
       "         7.88577730e-01,  2.96274297e-01,  6.70613069e-01,\n",
       "         9.81761387e-01],\n",
       "       [ 1.72725301e+00, -8.18739670e-01, -4.41414004e-01,\n",
       "        -4.41969042e-01, -9.62400778e-01, -6.72493151e-01,\n",
       "        -8.28852981e-01, -9.00024919e-01, -8.52731814e-01,\n",
       "        -1.01857744e+00],\n",
       "       [ 1.06480068e+00, -4.55103250e-01, -4.41414004e-01,\n",
       "         2.41077832e-01, -6.66628301e-01, -3.58057720e-01,\n",
       "        -4.95852540e-01, -5.71217532e-01, -6.27541701e-01,\n",
       "        -1.01857744e+00],\n",
       "       [ 4.02348347e-01, -4.55103250e-01, -4.41414004e-01,\n",
       "         5.41618457e-01, -2.02984958e-01, -1.16990557e-01,\n",
       "        -2.01376252e-02, -1.65455225e-01, -1.24175566e-01,\n",
       "        -1.01857744e+00],\n",
       "       [-1.25378248e+00,  2.72169591e-01, -4.41414004e-01,\n",
       "         9.37785644e-01,  2.51492429e+00,  1.86604889e+00,\n",
       "         1.62107883e+00,  2.35306944e+00,  2.32642272e+00,\n",
       "         9.81761387e-01],\n",
       "       [ 3.36103114e-01, -4.55103250e-01, -4.41414004e-01,\n",
       "         3.50365332e-01, -7.06597555e-01, -5.55103923e-01,\n",
       "        -3.76923811e-01, -6.69160158e-01, -5.87802269e-01,\n",
       "        -1.01857744e+00],\n",
       "       [ 1.46227207e+00,  9.99442431e-01, -4.41414004e-01,\n",
       "         4.32330957e-01, -9.10710479e-02,  1.29760879e-02,\n",
       "        -4.39233710e-02, -3.95289915e-02, -8.44361341e-02,\n",
       "        -1.01857744e+00],\n",
       "       [ 6.01084046e-01,  6.35806011e-01, -2.41920984e-01,\n",
       "        -5.37595604e-01, -9.14437674e-01, -3.89501263e-01,\n",
       "        -7.57495743e-01, -8.02082293e-01, -8.39485337e-01,\n",
       "        -1.01857744e+00],\n",
       "       [ 2.69857881e-01, -9.14668296e-02, -3.74916331e-01,\n",
       "         3.57195801e-01,  1.44374829e+00,  1.00868828e+00,\n",
       "        -3.29352320e-01,  1.32467187e+00,  1.01014547e-01,\n",
       "         9.81761387e-01],\n",
       "       [-1.65125387e+00, -8.18739670e-01, -4.41414004e-01,\n",
       "         1.02658174e+00,  1.00408650e+00,  7.79594102e-02,\n",
       "         1.66865032e+00,  7.37016114e-01,  1.51838761e+00,\n",
       "         9.81761387e-01],\n",
       "       [ 7.11221826e-02,  6.35806011e-01,  2.90060404e-01,\n",
       "        -3.19020605e-01,  5.00473906e-01,  1.66001331e-01,\n",
       "        -7.33709998e-01,  3.59237414e-01, -5.87802269e-01,\n",
       "         9.81761387e-01],\n",
       "       [-8.56311079e-01,  1.36307885e+00, -4.41414004e-01,\n",
       "         7.60193457e-01, -2.50948063e-01, -3.20325469e-01,\n",
       "         1.05022093e+00, -2.91381458e-01,  4.45422956e-01,\n",
       "         9.81761387e-01],\n",
       "       [ 2.03612648e-01, -9.14668296e-02, -3.74916331e-01,\n",
       "         2.68399707e-01, -1.86997257e-01,  2.81294322e-01,\n",
       "        -4.48281049e-01, -4.54948219e-03, -3.89105111e-01,\n",
       "        -1.01857744e+00],\n",
       "       [ 7.33574512e-01, -9.14668296e-02, -4.41414004e-01,\n",
       "         6.23584082e-01,  9.64117249e-01,  1.64175162e+00,\n",
       "         2.17719832e-01,  1.28969236e+00,  6.57366591e-01,\n",
       "        -1.01857744e+00],\n",
       "       [-6.13682833e-02, -8.18739670e-01,  4.23055751e-01,\n",
       "        -8.92779979e-01, -8.42493017e-01, -8.61154409e-01,\n",
       "        -8.76424472e-01, -8.86033116e-01, -8.65978291e-01,\n",
       "        -1.01857744e+00],\n",
       "       [ 1.32978161e+00,  2.45398811e+00,  8.26978122e+00,\n",
       "        -2.07445107e+00, -9.70394629e-01, -8.71635590e-01,\n",
       "        -1.04292469e+00, -9.69983938e-01, -9.05717723e-01,\n",
       "        -1.01857744e+00],\n",
       "       [-1.27613516e-01,  9.99442431e-01, -2.41920984e-01,\n",
       "        -2.53104486e-02, -2.66935764e-01, -3.52373448e-02,\n",
       "        -5.90995523e-01, -1.72451127e-01, -5.74555792e-01,\n",
       "        -1.01857744e+00],\n",
       "       [-1.84998957e+00, -4.55103250e-01, -4.41414004e-01,\n",
       "         1.08122549e+00, -3.06905018e-01, -5.71873813e-01,\n",
       "         2.16815098e+00, -4.17307692e-01,  8.69310227e-01,\n",
       "         9.81761387e-01],\n",
       "       [ 1.66100777e+00,  9.99442431e-01, -4.41414004e-01,\n",
       "         1.72773145e-01, -2.26966510e-01, -4.27233515e-01,\n",
       "        -4.48281049e-01, -3.33356869e-01, -4.95076928e-01,\n",
       "         9.81761387e-01],\n",
       "       [ 2.69857881e-01,  2.45398811e+00, -1.75423310e-01,\n",
       "        -6.33222167e-01, -3.30886570e-01,  4.74148053e-01,\n",
       "        -6.86138506e-01, -8.15044026e-02, -6.40788178e-01,\n",
       "        -1.01857744e+00],\n",
       "       [-5.91330147e-01, -4.55103250e-01, -4.41414004e-01,\n",
       "         8.21667676e-01,  2.11523175e+00,  1.65223280e+00,\n",
       "         7.88577730e-01,  2.02426206e+00,  1.47864818e+00,\n",
       "         9.81761387e-01],\n",
       "       [-4.58839681e-01, -4.55103250e-01, -4.41414004e-01,\n",
       "         5.96262207e-01, -5.06751286e-01, -6.34760899e-01,\n",
       "         7.50053577e-02, -5.85209336e-01, -2.69886815e-01,\n",
       "         9.81761387e-01],\n",
       "       [ 9.32310211e-01,  1.72671527e+00,  2.40697100e-02,\n",
       "        -9.81576073e-01, -9.62400778e-01, -8.27614630e-01,\n",
       "        -8.05067235e-01, -9.48996232e-01, -8.52731814e-01,\n",
       "        -1.01857744e+00],\n",
       "       [-5.25084914e-01,  9.99442431e-01, -3.74916331e-01,\n",
       "         1.52281739e-01, -8.26505316e-01, -7.01840458e-01,\n",
       "        -7.09924252e-01, -8.02082293e-01, -8.26238859e-01,\n",
       "         9.81761387e-01],\n",
       "       [ 7.33574512e-01, -9.14668296e-02, -4.41414004e-01,\n",
       "         6.23584082e-01, -2.02984958e-01, -2.17609895e-01,\n",
       "         2.17719832e-01, -2.14426538e-01,  2.15356839e-02,\n",
       "        -1.01857744e+00],\n",
       "       [ 1.37367416e-01, -9.14668296e-02, -3.08418657e-01,\n",
       "        -6.94696386e-01, -8.66474569e-01, -6.74589387e-01,\n",
       "        -8.28852981e-01, -8.23069999e-01, -8.52731814e-01,\n",
       "         9.81761387e-01],\n",
       "       [ 4.68593580e-01, -8.18739670e-01,  2.40697100e-02,\n",
       "        -7.42509667e-01, -6.90609853e-01, -8.25518394e-01,\n",
       "        -8.52638726e-01, -7.53110980e-01, -8.52731814e-01,\n",
       "        -1.01857744e+00],\n",
       "       [ 1.32978161e+00,  2.09035169e+00, -4.41414004e-01,\n",
       "         5.07466114e-01,  2.58686895e+00,  3.17619652e+00,\n",
       "        -6.77091167e-02,  2.98969651e+00,  8.29570795e-01,\n",
       "        -1.01857744e+00],\n",
       "       [ 4.02348347e-01, -9.14668296e-02, -4.41414004e-01,\n",
       "         5.89431738e-01,  7.40289429e-01,  6.11895206e-02,\n",
       "         1.22576849e-01,  5.13147255e-01,  2.86465229e-01,\n",
       "         9.81761387e-01],\n",
       "       [-1.38627294e+00, -2.63692177e+00, -3.74916331e-01,\n",
       "         4.39161426e-01,  8.20227936e-01,  7.82294775e-01,\n",
       "        -4.72066794e-01,  8.62942348e-01, -1.77161475e-01,\n",
       "         9.81761387e-01],\n",
       "       [-1.93858749e-01,  2.72169591e-01,  9.05673835e-02,\n",
       "        -2.23394042e-01, -6.10671346e-01, -8.46480756e-01,\n",
       "        -7.33709998e-01, -6.90147864e-01, -8.12992382e-01,\n",
       "         9.81761387e-01],\n",
       "       [-1.65125387e+00,  2.72169591e-01, -4.41414004e-01,\n",
       "         1.00609033e+00,  3.72998960e+00,  2.48443857e+00,\n",
       "         2.00165076e+00,  3.31850390e+00,  3.09471840e+00,\n",
       "         9.81761387e-01],\n",
       "       [ 9.32310211e-01,  3.90853379e+00,  5.07789289e+00,\n",
       "        -2.05395967e+00, -1.08230854e+00, -8.73731826e-01,\n",
       "        -1.01913895e+00, -1.04693886e+00, -9.05717723e-01,\n",
       "        -1.01857744e+00]])"
      ]
     },
     "execution_count": 126,
     "metadata": {},
     "output_type": "execute_result"
    }
   ],
   "source": [
    "X_test"
   ]
  },
  {
   "cell_type": "markdown",
   "id": "a1e86a48",
   "metadata": {},
   "source": [
    "# Model Training"
   ]
  },
  {
   "cell_type": "code",
   "execution_count": 127,
   "id": "3593a601",
   "metadata": {},
   "outputs": [],
   "source": [
    "from sklearn.linear_model import LinearRegression\n",
    "regression=LinearRegression()"
   ]
  },
  {
   "cell_type": "code",
   "execution_count": 128,
   "id": "ff2733ff",
   "metadata": {},
   "outputs": [
    {
     "data": {
      "text/plain": [
       "LinearRegression()"
      ]
     },
     "execution_count": 128,
     "metadata": {},
     "output_type": "execute_result"
    }
   ],
   "source": [
    "regression.fit(X_train,Y_train)"
   ]
  },
  {
   "cell_type": "code",
   "execution_count": 130,
   "id": "e2273db2",
   "metadata": {},
   "outputs": [
    {
     "name": "stdout",
     "output_type": "stream",
     "text": [
      "[[-1.1894053  -0.52898776 -0.25118608  1.04392398 -0.29452097  0.79642928\n",
      "  -0.02843277 -0.28406498  0.36267227  0.28769993]]\n"
     ]
    }
   ],
   "source": [
    "#checking coefficient and intercept\n",
    "print(regression.coef_)"
   ]
  },
  {
   "cell_type": "code",
   "execution_count": 131,
   "id": "93a2b762",
   "metadata": {},
   "outputs": [
    {
     "name": "stdout",
     "output_type": "stream",
     "text": [
      "[32.17791411]\n"
     ]
    }
   ],
   "source": [
    "print(regression.intercept_)"
   ]
  },
  {
   "cell_type": "markdown",
   "id": "15f2d6d6",
   "metadata": {},
   "source": [
    "# Prediction for test data"
   ]
  },
  {
   "cell_type": "code",
   "execution_count": 132,
   "id": "85fd9109",
   "metadata": {},
   "outputs": [],
   "source": [
    "reg_pred=regression.predict(X_test)"
   ]
  },
  {
   "cell_type": "code",
   "execution_count": 133,
   "id": "71b6422a",
   "metadata": {},
   "outputs": [
    {
     "data": {
      "text/plain": [
       "array([[31.85520805],\n",
       "       [33.32023288],\n",
       "       [33.21807046],\n",
       "       [31.54962426],\n",
       "       [32.83392397],\n",
       "       [34.84042006],\n",
       "       [33.80989281],\n",
       "       [34.26949295],\n",
       "       [31.81859967],\n",
       "       [32.79240656],\n",
       "       [33.76738688],\n",
       "       [27.66324428],\n",
       "       [35.38696287],\n",
       "       [29.66313126],\n",
       "       [31.88093798],\n",
       "       [32.11785121],\n",
       "       [34.18507382],\n",
       "       [28.01661619],\n",
       "       [36.079289  ],\n",
       "       [34.34726558],\n",
       "       [32.59530447],\n",
       "       [34.70784276],\n",
       "       [33.52976523],\n",
       "       [32.9881793 ],\n",
       "       [35.84879978],\n",
       "       [29.16181646],\n",
       "       [32.31092863],\n",
       "       [32.73296243],\n",
       "       [27.54582691],\n",
       "       [32.162335  ],\n",
       "       [25.91964205],\n",
       "       [27.35561207],\n",
       "       [33.74009217],\n",
       "       [32.08124527],\n",
       "       [32.83052364],\n",
       "       [31.011581  ],\n",
       "       [28.94458723],\n",
       "       [32.74881628],\n",
       "       [27.70426299],\n",
       "       [35.38114518],\n",
       "       [32.75643987],\n",
       "       [34.10208364],\n",
       "       [33.96589922],\n",
       "       [31.57457004],\n",
       "       [36.52970822],\n",
       "       [33.90941063],\n",
       "       [24.22458771],\n",
       "       [35.06076345],\n",
       "       [33.89400607],\n",
       "       [29.63088774],\n",
       "       [31.08161566],\n",
       "       [32.29248998],\n",
       "       [35.77219257],\n",
       "       [31.95611165],\n",
       "       [30.19815208],\n",
       "       [30.23719554],\n",
       "       [32.70268167],\n",
       "       [36.10026741],\n",
       "       [31.32399101],\n",
       "       [33.69552296],\n",
       "       [32.21746521],\n",
       "       [32.71203643],\n",
       "       [30.87753145],\n",
       "       [24.33058584],\n",
       "       [31.45027547],\n",
       "       [36.14819612],\n",
       "       [29.90177694],\n",
       "       [29.93414116],\n",
       "       [35.00480545],\n",
       "       [33.69011778],\n",
       "       [28.43934212],\n",
       "       [32.44218862],\n",
       "       [31.77159183],\n",
       "       [31.3636683 ],\n",
       "       [30.45430062],\n",
       "       [31.05933094],\n",
       "       [32.54173834],\n",
       "       [36.14223846],\n",
       "       [31.71876528],\n",
       "       [36.4444662 ],\n",
       "       [24.90952834]])"
      ]
     },
     "execution_count": 133,
     "metadata": {},
     "output_type": "execute_result"
    }
   ],
   "source": [
    "reg_pred"
   ]
  },
  {
   "cell_type": "markdown",
   "id": "f5fb9dcb",
   "metadata": {},
   "source": [
    "# Assumption of Linear regression"
   ]
  },
  {
   "cell_type": "code",
   "execution_count": 134,
   "id": "852fa56e",
   "metadata": {},
   "outputs": [
    {
     "data": {
      "text/plain": [
       "<matplotlib.collections.PathCollection at 0x1e52d909fd0>"
      ]
     },
     "execution_count": 134,
     "metadata": {},
     "output_type": "execute_result"
    },
    {
     "data": {
      "image/png": "[encoded data removed]",
      "text/plain": [
       "<Figure size 432x432 with 1 Axes>"
      ]
     },
     "metadata": {},
     "output_type": "display_data"
    }
   ],
   "source": [
    "plt.scatter(Y_test,reg_pred)"
   ]
  },
  {
   "cell_type": "code",
   "execution_count": 135,
   "id": "560225b9",
   "metadata": {},
   "outputs": [],
   "source": [
    "#residual\n",
    "lin_res=Y_test-reg_pred"
   ]
  },
  {
   "cell_type": "code",
   "execution_count": 136,
   "id": "b1ffccd3",
   "metadata": {},
   "outputs": [
    {
     "data": {
      "text/plain": [
       "<seaborn.axisgrid.FacetGrid at 0x1e52ac080a0>"
      ]
     },
     "execution_count": 136,
     "metadata": {},
     "output_type": "execute_result"
    },
    {
     "data": {
      "image/png": "[encoded data removed]",
      "text/plain": [
       "<Figure size 461.725x360 with 1 Axes>"
      ]
     },
     "metadata": {},
     "output_type": "display_data"
    }
   ],
   "source": [
    "sns.displot(lin_res,kind=\"kde\")"
   ]
  },
  {
   "cell_type": "code",
   "execution_count": 137,
   "id": "760fa2a5",
   "metadata": {},
   "outputs": [
    {
     "data": {
      "text/plain": [
       "<matplotlib.collections.PathCollection at 0x1e52da91280>"
      ]
     },
     "execution_count": 137,
     "metadata": {},
     "output_type": "execute_result"
    },
    {
     "data": {
      "image/png": "[encoded data removed]",
      "text/plain": [
       "<Figure size 432x432 with 1 Axes>"
      ]
     },
     "metadata": {},
     "output_type": "display_data"
    }
   ],
   "source": [
    "##scatter plot with prediction and residuals\n",
    "## uniform distribution\n",
    "plt.scatter(reg_pred,lin_res)"
   ]
  },
  {
   "cell_type": "markdown",
   "id": "bf7f50cf",
   "metadata": {},
   "source": [
    "# Performance metrics"
   ]
  },
  {
   "cell_type": "code",
   "execution_count": 138,
   "id": "c3e73fd0",
   "metadata": {},
   "outputs": [
    {
     "name": "stdout",
     "output_type": "stream",
     "text": [
      "7.143465572113119\n",
      "2.182733343742494\n",
      "2.6727262433914025\n"
     ]
    }
   ],
   "source": [
    "## Performance matric\n",
    "from sklearn.metrics import mean_squared_error\n",
    "from sklearn.metrics import mean_absolute_error\n",
    "print(mean_squared_error(Y_test,reg_pred))\n",
    "print(mean_absolute_error(Y_test,reg_pred))\n",
    "print(np.sqrt(mean_squared_error(Y_test,reg_pred)))"
   ]
  },
  {
   "cell_type": "code",
   "execution_count": 139,
   "id": "8be9a192",
   "metadata": {},
   "outputs": [
    {
     "data": {
      "text/plain": [
       "0.5276232375311518"
      ]
     },
     "execution_count": 139,
     "metadata": {},
     "output_type": "execute_result"
    }
   ],
   "source": [
    "# R square and adjusted r square\n",
    "from sklearn.metrics import r2_score\n",
    "score=r2_score(Y_test,reg_pred)\n",
    "score"
   ]
  },
  {
   "cell_type": "code",
   "execution_count": 140,
   "id": "3270c6ce",
   "metadata": {},
   "outputs": [
    {
     "data": {
      "text/plain": [
       "0.4533926034289042"
      ]
     },
     "execution_count": 140,
     "metadata": {},
     "output_type": "execute_result"
    }
   ],
   "source": [
    "# adjusted r square\n",
    "1-(1-score)*(len(Y_test-1))/(len(Y_test)-X_test.shape[1]-1)"
   ]
  },
  {
   "cell_type": "code",
   "execution_count": null,
   "id": "533c7b77",
   "metadata": {},
   "outputs": [],
   "source": []
  },
  {
   "cell_type": "code",
   "execution_count": null,
   "id": "ba723d6d",
   "metadata": {},
   "outputs": [],
   "source": []
  },
  {
   "cell_type": "markdown",
   "id": "1072a272",
   "metadata": {},
   "source": [
    "# Ridge regression"
   ]
  },
  {
   "cell_type": "code",
   "execution_count": 142,
   "id": "b2800dea",
   "metadata": {},
   "outputs": [],
   "source": [
    "from sklearn.linear_model import Ridge\n",
    "ridge=Ridge()"
   ]
  },
  {
   "cell_type": "code",
   "execution_count": 143,
   "id": "913b43fd",
   "metadata": {},
   "outputs": [
    {
     "data": {
      "text/plain": [
       "Ridge()"
      ]
     },
     "execution_count": 143,
     "metadata": {},
     "output_type": "execute_result"
    }
   ],
   "source": [
    "ridge.fit(X_train,Y_train)"
   ]
  },
  {
   "cell_type": "code",
   "execution_count": 144,
   "id": "7f8407b9",
   "metadata": {},
   "outputs": [
    {
     "name": "stdout",
     "output_type": "stream",
     "text": [
      "[[-1.18128511 -0.52862917 -0.25338075  1.02428349 -0.31526923  0.71277554\n",
      "   0.04021199 -0.12974761  0.26387856  0.27825681]]\n"
     ]
    }
   ],
   "source": [
    "print(ridge.coef_)"
   ]
  },
  {
   "cell_type": "code",
   "execution_count": 145,
   "id": "2e922a72",
   "metadata": {},
   "outputs": [
    {
     "name": "stdout",
     "output_type": "stream",
     "text": [
      "[32.17791411]\n"
     ]
    }
   ],
   "source": [
    "print(ridge.intercept_)"
   ]
  },
  {
   "cell_type": "code",
   "execution_count": 199,
   "id": "9cadb1a2",
   "metadata": {},
   "outputs": [
    {
     "data": {
      "text/plain": [
       "array([[31.848778  ],\n",
       "       [33.30617413],\n",
       "       [33.20848669],\n",
       "       [31.55614175],\n",
       "       [32.82680289],\n",
       "       [34.82048931],\n",
       "       [33.76534956],\n",
       "       [34.1985969 ],\n",
       "       [31.82091066],\n",
       "       [32.79016762],\n",
       "       [33.76425293],\n",
       "       [27.67268602],\n",
       "       [35.36088538],\n",
       "       [29.64001932],\n",
       "       [31.87642562],\n",
       "       [32.11913244],\n",
       "       [34.15895855],\n",
       "       [28.03387827],\n",
       "       [36.09670685],\n",
       "       [34.36300079],\n",
       "       [32.58971075],\n",
       "       [34.61731153],\n",
       "       [33.52136283],\n",
       "       [32.99042509],\n",
       "       [35.87194784],\n",
       "       [29.17868097],\n",
       "       [32.26521899],\n",
       "       [32.74322302],\n",
       "       [27.56672317],\n",
       "       [32.17126894],\n",
       "       [25.93574764],\n",
       "       [27.35942807],\n",
       "       [33.73488256],\n",
       "       [32.07553167],\n",
       "       [32.82019645],\n",
       "       [30.98636133],\n",
       "       [28.94458482],\n",
       "       [32.72641426],\n",
       "       [27.7179228 ],\n",
       "       [35.34398646],\n",
       "       [32.72783516],\n",
       "       [34.10577155],\n",
       "       [33.98602329],\n",
       "       [31.548194  ],\n",
       "       [36.50598562],\n",
       "       [33.90299598],\n",
       "       [24.26552879],\n",
       "       [35.06061074],\n",
       "       [33.8989956 ],\n",
       "       [29.62857092],\n",
       "       [31.07954622],\n",
       "       [32.29489468],\n",
       "       [35.77166839],\n",
       "       [31.95241511],\n",
       "       [30.21251122],\n",
       "       [30.22173133],\n",
       "       [32.74687276],\n",
       "       [36.10901733],\n",
       "       [31.36002657],\n",
       "       [33.68095074],\n",
       "       [32.21157113],\n",
       "       [32.70798138],\n",
       "       [30.88114425],\n",
       "       [24.33572827],\n",
       "       [31.45831195],\n",
       "       [36.15623184],\n",
       "       [29.91107197],\n",
       "       [29.93048232],\n",
       "       [35.01372703],\n",
       "       [33.67133391],\n",
       "       [28.44811167],\n",
       "       [32.41182377],\n",
       "       [31.77799907],\n",
       "       [31.344545  ],\n",
       "       [30.47484498],\n",
       "       [31.12688317],\n",
       "       [32.56391621],\n",
       "       [36.14876702],\n",
       "       [31.71913964],\n",
       "       [36.46163664],\n",
       "       [24.91082217]])"
      ]
     },
     "execution_count": 199,
     "metadata": {},
     "output_type": "execute_result"
    }
   ],
   "source": [
    "rid_pred=ridge.predict(X_test)\n",
    "rid_pred"
   ]
  },
  {
   "cell_type": "code",
   "execution_count": 147,
   "id": "dd41115b",
   "metadata": {},
   "outputs": [
    {
     "data": {
      "text/plain": [
       "<matplotlib.collections.PathCollection at 0x1e52dc0a760>"
      ]
     },
     "execution_count": 147,
     "metadata": {},
     "output_type": "execute_result"
    },
    {
     "data": {
      "image/png": "[encoded data removed]",
      "text/plain": [
       "<Figure size 432x432 with 1 Axes>"
      ]
     },
     "metadata": {},
     "output_type": "display_data"
    }
   ],
   "source": [
    "#Assumption on ridge regression\n",
    "plt.scatter(Y_test,rid_pred)"
   ]
  },
  {
   "cell_type": "code",
   "execution_count": 189,
   "id": "eaeea941",
   "metadata": {},
   "outputs": [],
   "source": [
    "## residual\n",
    "rid_residual=Y_test-rid_pred"
   ]
  },
  {
   "cell_type": "code",
   "execution_count": 152,
   "id": "07a60264",
   "metadata": {},
   "outputs": [
    {
     "data": {
      "text/plain": [
       "<seaborn.axisgrid.FacetGrid at 0x1e52de60430>"
      ]
     },
     "execution_count": 152,
     "metadata": {},
     "output_type": "execute_result"
    },
    {
     "data": {
      "image/png": "[encoded data removed]",
      "text/plain": [
       "<Figure size 461.725x360 with 1 Axes>"
      ]
     },
     "metadata": {},
     "output_type": "display_data"
    }
   ],
   "source": [
    "sns.displot(rid_residual,kind=\"kde\")"
   ]
  },
  {
   "cell_type": "code",
   "execution_count": 153,
   "id": "21f46013",
   "metadata": {},
   "outputs": [
    {
     "data": {
      "text/plain": [
       "<matplotlib.collections.PathCollection at 0x1e52dedff10>"
      ]
     },
     "execution_count": 153,
     "metadata": {},
     "output_type": "execute_result"
    },
    {
     "data": {
      "image/png": "[encoded data removed]",
      "text/plain": [
       "<Figure size 432x432 with 1 Axes>"
      ]
     },
     "metadata": {},
     "output_type": "display_data"
    }
   ],
   "source": [
    "##scatter plot with prediction and residuals\n",
    "## uniform distribution\n",
    "plt.scatter(rid_pred,rid_residual)"
   ]
  },
  {
   "cell_type": "markdown",
   "id": "0302d792",
   "metadata": {},
   "source": [
    "# Performance metrics"
   ]
  },
  {
   "cell_type": "code",
   "execution_count": 154,
   "id": "3b700930",
   "metadata": {},
   "outputs": [
    {
     "name": "stdout",
     "output_type": "stream",
     "text": [
      "7.123168367496658\n",
      "2.1812779084350145\n",
      "2.66892644475202\n"
     ]
    }
   ],
   "source": [
    "## Performance matric\n",
    "from sklearn.metrics import mean_squared_error\n",
    "from sklearn.metrics import mean_absolute_error\n",
    "print(mean_squared_error(Y_test,rid_pred))\n",
    "print(mean_absolute_error(Y_test,rid_pred))\n",
    "print(np.sqrt(mean_squared_error(Y_test,rid_pred)))"
   ]
  },
  {
   "cell_type": "code",
   "execution_count": 205,
   "id": "79635965",
   "metadata": {},
   "outputs": [
    {
     "data": {
      "text/plain": [
       "0.5289654330953499"
      ]
     },
     "execution_count": 205,
     "metadata": {},
     "output_type": "execute_result"
    }
   ],
   "source": [
    "# R square and adjusted r square\n",
    "from sklearn.metrics import r2_score\n",
    "rid_score=r2_score(Y_test,rid_pred)\n",
    "rid_score"
   ]
  },
  {
   "cell_type": "code",
   "execution_count": 206,
   "id": "441f8d32",
   "metadata": {},
   "outputs": [
    {
     "data": {
      "text/plain": [
       "0.45494571543890494"
      ]
     },
     "execution_count": 206,
     "metadata": {},
     "output_type": "execute_result"
    }
   ],
   "source": [
    "# adjusted r square\n",
    "1-(1-rid_score)*(len(Y_test-1))/(len(Y_test)-X_test.shape[1]-1)"
   ]
  },
  {
   "cell_type": "markdown",
   "id": "6acdd79f",
   "metadata": {},
   "source": [
    "# Lasso Regression"
   ]
  },
  {
   "cell_type": "code",
   "execution_count": 192,
   "id": "8e562647",
   "metadata": {},
   "outputs": [],
   "source": [
    "from sklearn.linear_model import Lasso\n",
    "lasso=Lasso()"
   ]
  },
  {
   "cell_type": "code",
   "execution_count": 193,
   "id": "838a5e6e",
   "metadata": {},
   "outputs": [
    {
     "data": {
      "text/plain": [
       "Lasso()"
      ]
     },
     "execution_count": 193,
     "metadata": {},
     "output_type": "execute_result"
    }
   ],
   "source": [
    "lasso.fit(X_train,Y_train)"
   ]
  },
  {
   "cell_type": "code",
   "execution_count": 194,
   "id": "75b10f6a",
   "metadata": {},
   "outputs": [
    {
     "name": "stdout",
     "output_type": "stream",
     "text": [
      "[-0.71955751 -0.         -0.          0.89582004  0.          0.\n",
      "  0.          0.          0.          0.        ]\n"
     ]
    }
   ],
   "source": [
    "print(lasso.coef_)"
   ]
  },
  {
   "cell_type": "code",
   "execution_count": 195,
   "id": "d0722b65",
   "metadata": {},
   "outputs": [
    {
     "name": "stdout",
     "output_type": "stream",
     "text": [
      "[32.17791411]\n"
     ]
    }
   ],
   "source": [
    "print(lasso.intercept_)"
   ]
  },
  {
   "cell_type": "code",
   "execution_count": 200,
   "id": "26fdbaa2",
   "metadata": {},
   "outputs": [
    {
     "data": {
      "text/plain": [
       "array([32.29700076, 32.6744027 , 33.06609539, 32.07346965, 32.92497671,\n",
       "       33.33947653, 33.32111992, 32.77042154, 32.11916885, 32.70983221,\n",
       "       33.15976154, 30.29861247, 34.17172792, 30.95174825, 33.0931383 ,\n",
       "       32.31497272, 32.93691477, 29.42489766, 34.46059856, 33.50695377,\n",
       "       32.46152593, 33.02899752, 33.30888217, 32.80645043, 34.5498142 ,\n",
       "       30.18680443, 32.38908351, 32.89121556, 29.47641605, 31.8492542 ,\n",
       "       29.50217524, 28.6091198 , 33.21226395, 32.70054654, 32.64380834,\n",
       "       31.80937418, 30.23515603, 32.53110125, 29.22810977, 33.62676377,\n",
       "       32.55104126, 33.23190428, 33.93112391, 31.84411936, 34.06445535,\n",
       "       33.20742879, 29.78847846, 33.80519505, 33.21966653, 30.53913152,\n",
       "       31.62769114, 32.373594  , 33.92016988, 32.24993288, 31.51301599,\n",
       "       31.26381066, 32.303719  , 34.28571873, 31.84095256, 33.47507571,\n",
       "       32.27184094, 32.20868418, 31.42230192, 29.36272493, 32.24706577,\n",
       "       34.47767146, 31.13749714, 31.41648274, 33.33947653, 33.04221928,\n",
       "       30.62774778, 32.69215994, 32.20868418, 31.45674741, 31.17557904,\n",
       "       31.67565808, 32.4164261 , 33.56882682, 32.11728577, 34.26736212,\n",
       "       29.66708507])"
      ]
     },
     "execution_count": 200,
     "metadata": {},
     "output_type": "execute_result"
    }
   ],
   "source": [
    "las_pred=lasso.predict(X_test)\n",
    "las_pred"
   ]
  },
  {
   "cell_type": "code",
   "execution_count": 187,
   "id": "9ce965c9",
   "metadata": {},
   "outputs": [
    {
     "data": {
      "text/plain": [
       "<matplotlib.collections.PathCollection at 0x1e52870fcd0>"
      ]
     },
     "execution_count": 187,
     "metadata": {},
     "output_type": "execute_result"
    },
    {
     "data": {
      "image/png": "[encoded data removed]",
      "text/plain": [
       "<Figure size 432x432 with 1 Axes>"
      ]
     },
     "metadata": {},
     "output_type": "display_data"
    }
   ],
   "source": [
    "#Assumption on ridge regression\n",
    "plt.scatter(Y_test,las_pred)"
   ]
  },
  {
   "cell_type": "code",
   "execution_count": null,
   "id": "0a95ca3d",
   "metadata": {},
   "outputs": [],
   "source": []
  },
  {
   "cell_type": "code",
   "execution_count": 167,
   "id": "6a37eeb0",
   "metadata": {},
   "outputs": [
    {
     "data": {
      "text/plain": [
       "<seaborn.axisgrid.FacetGrid at 0x1e52e0a51f0>"
      ]
     },
     "execution_count": 167,
     "metadata": {},
     "output_type": "execute_result"
    },
    {
     "data": {
      "image/png": "[encoded data removed]",
      "text/plain": [
       "<Figure size 405.725x360 with 1 Axes>"
      ]
     },
     "metadata": {},
     "output_type": "display_data"
    }
   ],
   "source": [
    "sns.displot(las_pred,kind=\"kde\")"
   ]
  },
  {
   "cell_type": "code",
   "execution_count": null,
   "id": "bc1102ed",
   "metadata": {},
   "outputs": [],
   "source": []
  },
  {
   "cell_type": "markdown",
   "id": "fb0d58f8",
   "metadata": {},
   "source": [
    "# Performance metrics on Lasso Regression"
   ]
  },
  {
   "cell_type": "code",
   "execution_count": 169,
   "id": "f41aff92",
   "metadata": {},
   "outputs": [
    {
     "name": "stdout",
     "output_type": "stream",
     "text": [
      "7.123168367496658\n",
      "2.1812779084350145\n",
      "2.66892644475202\n"
     ]
    }
   ],
   "source": [
    "## Performance matric\n",
    "from sklearn.metrics import mean_squared_error\n",
    "from sklearn.metrics import mean_absolute_error\n",
    "print(mean_squared_error(Y_test,las_pred))\n",
    "print(mean_absolute_error(Y_test,las_pred))\n",
    "print(np.sqrt(mean_squared_error(Y_test,las_pred)))"
   ]
  },
  {
   "cell_type": "code",
   "execution_count": 207,
   "id": "f2f22471",
   "metadata": {},
   "outputs": [
    {
     "data": {
      "text/plain": [
       "0.39784019626969913"
      ]
     },
     "execution_count": 207,
     "metadata": {},
     "output_type": "execute_result"
    }
   ],
   "source": [
    "# R square and adjusted r square\n",
    "from sklearn.metrics import r2_score\n",
    "Las_score=r2_score(Y_test,las_pred)\n",
    "Las_score"
   ]
  },
  {
   "cell_type": "code",
   "execution_count": 208,
   "id": "4151e5f4",
   "metadata": {},
   "outputs": [
    {
     "data": {
      "text/plain": [
       "0.3032150842549376"
      ]
     },
     "execution_count": 208,
     "metadata": {},
     "output_type": "execute_result"
    }
   ],
   "source": [
    "# adjusted r square\n",
    "1-(1-Las_score)*(len(Y_test-1))/(len(Y_test)-X_test.shape[1]-1)"
   ]
  },
  {
   "cell_type": "markdown",
   "id": "9f959552",
   "metadata": {},
   "source": [
    "# Elastic Net"
   ]
  },
  {
   "cell_type": "code",
   "execution_count": 172,
   "id": "894ddcca",
   "metadata": {},
   "outputs": [],
   "source": [
    "from sklearn.linear_model import ElasticNet"
   ]
  },
  {
   "cell_type": "code",
   "execution_count": 173,
   "id": "bfc43ae1",
   "metadata": {},
   "outputs": [],
   "source": [
    "elas=ElasticNet()"
   ]
  },
  {
   "cell_type": "code",
   "execution_count": 174,
   "id": "862157a0",
   "metadata": {},
   "outputs": [
    {
     "data": {
      "text/plain": [
       "ElasticNet()"
      ]
     },
     "execution_count": 174,
     "metadata": {},
     "output_type": "execute_result"
    }
   ],
   "source": [
    "elas.fit(X_train,Y_train)"
   ]
  },
  {
   "cell_type": "code",
   "execution_count": 175,
   "id": "f56cfdf4",
   "metadata": {},
   "outputs": [
    {
     "name": "stdout",
     "output_type": "stream",
     "text": [
      "[-0.6835853  -0.10811222 -0.01981371  0.70008078  0.07291534  0.\n",
      "  0.22344754  0.04457493  0.16421688  0.        ]\n"
     ]
    }
   ],
   "source": [
    "print(elas.coef_)"
   ]
  },
  {
   "cell_type": "code",
   "execution_count": 176,
   "id": "10204a42",
   "metadata": {},
   "outputs": [
    {
     "name": "stdout",
     "output_type": "stream",
     "text": [
      "[32.17791411]\n"
     ]
    }
   ],
   "source": [
    "print(elas.intercept_)"
   ]
  },
  {
   "cell_type": "code",
   "execution_count": 182,
   "id": "1da62d64",
   "metadata": {},
   "outputs": [
    {
     "data": {
      "text/plain": [
       "array([31.92715998, 32.96973974, 32.69756504, 31.76291488, 32.91254192,\n",
       "       34.00493801, 33.5060377 , 32.59712165, 31.92601501, 32.65411898,\n",
       "       33.37117183, 29.89387458, 34.1802979 , 30.67421311, 32.614271  ,\n",
       "       32.20957649, 32.78259003, 29.4313172 , 35.15441024, 33.9282945 ,\n",
       "       32.35247881, 33.41849878, 33.518897  , 32.8369751 , 35.15773858,\n",
       "       30.01906223, 32.07350581, 32.54493416, 29.38463109, 32.0309843 ,\n",
       "       29.15335678, 28.6529111 , 33.19877539, 32.27170882, 32.6326168 ,\n",
       "       31.32672672, 30.04390826, 32.26043298, 29.20813791, 33.9987256 ,\n",
       "       32.83755966, 33.54875309, 34.19165641, 31.52861427, 34.53138867,\n",
       "       33.38152506, 29.3049339 , 33.91639041, 33.40234151, 30.34950667,\n",
       "       31.38883486, 32.29293234, 34.70335672, 31.98929195, 31.34960422,\n",
       "       30.91716896, 32.3681402 , 34.8509054 , 31.62350272, 33.43338215,\n",
       "       32.06604345, 32.41603386, 31.23601124, 28.8916837 , 31.89061192,\n",
       "       34.84367713, 30.85124688, 31.00200227, 33.87880967, 32.87635434,\n",
       "       30.23386359, 32.15250962, 32.15947404, 31.18856208, 31.01133362,\n",
       "       31.84990375, 32.48544314, 33.68920809, 31.75007652, 35.36571719,\n",
       "       29.0774483 ])"
      ]
     },
     "execution_count": 182,
     "metadata": {},
     "output_type": "execute_result"
    }
   ],
   "source": [
    "elas_pred=elas.predict(X_test)\n",
    "elas_pred"
   ]
  },
  {
   "cell_type": "code",
   "execution_count": 178,
   "id": "aa41a4b2",
   "metadata": {},
   "outputs": [
    {
     "data": {
      "text/plain": [
       "<matplotlib.collections.PathCollection at 0x1e52f9822b0>"
      ]
     },
     "execution_count": 178,
     "metadata": {},
     "output_type": "execute_result"
    },
    {
     "data": {
      "image/png": "[encoded data removed]",
      "text/plain": [
       "<Figure size 432x432 with 1 Axes>"
      ]
     },
     "metadata": {},
     "output_type": "display_data"
    }
   ],
   "source": [
    "#Assumption on ridge regression\n",
    "plt.scatter(Y_test,elas_pred)"
   ]
  },
  {
   "cell_type": "markdown",
   "id": "6e299b78",
   "metadata": {},
   "source": [
    "# Performance metrics"
   ]
  },
  {
   "cell_type": "code",
   "execution_count": 201,
   "id": "714c3831",
   "metadata": {},
   "outputs": [
    {
     "name": "stdout",
     "output_type": "stream",
     "text": [
      "8.30362464529687\n",
      "2.3892966420322015\n",
      "2.881601055888353\n"
     ]
    }
   ],
   "source": [
    "## Performance matric\n",
    "from sklearn.metrics import mean_squared_error\n",
    "from sklearn.metrics import mean_absolute_error\n",
    "print(mean_squared_error(Y_test,elas_pred))\n",
    "print(mean_absolute_error(Y_test,elas_pred))\n",
    "print(np.sqrt(mean_squared_error(Y_test,elas_pred)))"
   ]
  },
  {
   "cell_type": "code",
   "execution_count": 203,
   "id": "36434c36",
   "metadata": {},
   "outputs": [
    {
     "data": {
      "text/plain": [
       "0.39784019626969913"
      ]
     },
     "execution_count": 203,
     "metadata": {},
     "output_type": "execute_result"
    }
   ],
   "source": [
    "# R square and adjusted r square\n",
    "from sklearn.metrics import r2_score\n",
    "elas_score=r2_score(Y_test,las_pred)\n",
    "elas_score"
   ]
  },
  {
   "cell_type": "code",
   "execution_count": 204,
   "id": "ab12b7ce",
   "metadata": {},
   "outputs": [
    {
     "data": {
      "text/plain": [
       "0.3032150842549376"
      ]
     },
     "execution_count": 204,
     "metadata": {},
     "output_type": "execute_result"
    }
   ],
   "source": [
    "# adjusted r square\n",
    "1-(1-elas_score)*(len(Y_test-1))/(len(Y_test)-X_test.shape[1]-1)"
   ]
  },
  {
   "cell_type": "code",
   "execution_count": null,
   "id": "fe4e4175",
   "metadata": {},
   "outputs": [],
   "source": []
  }
 ],
 "metadata": {
  "kernelspec": {
   "display_name": "Python 3 (ipykernel)",
   "language": "python",
   "name": "python3"
  },
  "language_info": {
   "codemirror_mode": {
    "name": "ipython",
    "version": 3
   },
   "file_extension": ".py",
   "mimetype": "text/x-python",
   "name": "python",
   "nbconvert_exporter": "python",
   "pygments_lexer": "ipython3",
   "version": "3.9.12"
  }
 },
 "nbformat": 4,
 "nbformat_minor": 5
}
